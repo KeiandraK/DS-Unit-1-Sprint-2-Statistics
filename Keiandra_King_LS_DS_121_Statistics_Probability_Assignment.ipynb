{
  "nbformat": 4,
  "nbformat_minor": 0,
  "metadata": {
    "kernelspec": {
      "display_name": "Python 3",
      "language": "python",
      "name": "python3"
    },
    "language_info": {
      "codemirror_mode": {
        "name": "ipython",
        "version": 3
      },
      "file_extension": ".py",
      "mimetype": "text/x-python",
      "name": "python",
      "nbconvert_exporter": "python",
      "pygments_lexer": "ipython3",
      "version": "3.7.3"
    },
    "colab": {
      "name": "Keiandra_King_LS_DS_121_Statistics_Probability_Assignment.ipynb",
      "provenance": [],
      "include_colab_link": true
    }
  },
  "cells": [
    {
      "cell_type": "markdown",
      "metadata": {
        "id": "view-in-github",
        "colab_type": "text"
      },
      "source": [
        "<a href=\"https://colab.research.google.com/github/KeiandraK/DS-Unit-1-Sprint-2-Statistics/blob/master/Keiandra_King_LS_DS_121_Statistics_Probability_Assignment.ipynb\" target=\"_parent\"><img src=\"https://colab.research.google.com/assets/colab-badge.svg\" alt=\"Open In Colab\"/></a>"
      ]
    },
    {
      "cell_type": "markdown",
      "metadata": {
        "id": "Sa5KWMO1ngPN",
        "colab_type": "text"
      },
      "source": [
        "<img align=\"left\" src=\"https://lever-client-logos.s3.amazonaws.com/864372b1-534c-480e-acd5-9711f850815c-1524247202159.png\" width=200>\n",
        "<br></br>\n",
        "<br></br>\n",
        "\n",
        "## *Data Science Unit 1 Sprint 2 Assignment 1*\n",
        "\n",
        "# Apply the t-test to real data\n",
        "\n",
        "Your assignment is to determine which issues have \"statistically significant\" differences between political parties in this [1980s congressional voting data](https://archive.ics.uci.edu/ml/datasets/Congressional+Voting+Records). The data consists of 435 instances (one for each congressperson), a class (democrat or republican), and 16 binary attributes (yes or no for voting for or against certain issues). Be aware - there are missing values!\n",
        "\n",
        "Your goals:\n",
        "\n",
        "1. Load and clean the data (or determine the best method to drop observations when running tests)\n",
        "2. Using hypothesis testing, find an issue that democrats support more than republicans with p < 0.01\n",
        "3. Using hypothesis testing, find an issue that republicans support more than democrats with p < 0.01\n",
        "4. Using hypothesis testing, find an issue where the difference between republicans and democrats has p > 0.1 (i.e. there may not be much of a difference)\n",
        "\n",
        "Note that this data will involve *2 sample* t-tests, because you're comparing averages across two groups (republicans and democrats) rather than a single group against a null hypothesis.\n",
        "\n",
        "Stretch goals:\n",
        "\n",
        "1. Refactor your code into functions so it's easy to rerun with arbitrary variables\n",
        "2. Apply hypothesis testing to your personal project data (for the purposes of this notebook you can type a summary of the hypothesis you formed and tested)"
      ]
    },
    {
      "cell_type": "code",
      "metadata": {
        "id": "ZKwspo2CngPP",
        "colab_type": "code",
        "colab": {
          "base_uri": "https://localhost:8080/",
          "height": 1000
        },
        "outputId": "09c730aa-431b-4fe7-cee8-e5e298f9a238"
      },
      "source": [
        "import numpy as np\n",
        "import pandas as pd\n",
        "\n",
        "political_data_url= 'https://archive.ics.uci.edu/ml/machine-learning-databases/voting-records/house-votes-84.data'\n",
        "!curl https://archive.ics.uci.edu/ml/machine-learning-databases/voting-records/house-votes-84.data"
      ],
      "execution_count": 101,
      "outputs": [
        {
          "output_type": "stream",
          "text": [
            "republican,n,y,n,y,y,y,n,n,n,y,?,y,y,y,n,y\n",
            "republican,n,y,n,y,y,y,n,n,n,n,n,y,y,y,n,?\n",
            "democrat,?,y,y,?,y,y,n,n,n,n,y,n,y,y,n,n\n",
            "democrat,n,y,y,n,?,y,n,n,n,n,y,n,y,n,n,y\n",
            "democrat,y,y,y,n,y,y,n,n,n,n,y,?,y,y,y,y\n",
            "democrat,n,y,y,n,y,y,n,n,n,n,n,n,y,y,y,y\n",
            "democrat,n,y,n,y,y,y,n,n,n,n,n,n,?,y,y,y\n",
            "republican,n,y,n,y,y,y,n,n,n,n,n,n,y,y,?,y\n",
            "republican,n,y,n,y,y,y,n,n,n,n,n,y,y,y,n,y\n",
            "democrat,y,y,y,n,n,n,y,y,y,n,n,n,n,n,?,?\n",
            "republican,n,y,n,y,y,n,n,n,n,n,?,?,y,y,n,n\n",
            "republican,n,y,n,y,y,y,n,n,n,n,y,?,y,y,?,?\n",
            "democrat,n,y,y,n,n,n,y,y,y,n,n,n,y,n,?,?\n",
            "democrat,y,y,y,n,n,y,y,y,?,y,y,?,n,n,y,?\n",
            "republican,n,y,n,y,y,y,n,n,n,n,n,y,?,?,n,?\n",
            "republican,n,y,n,y,y,y,n,n,n,y,n,y,y,?,n,?\n",
            "democrat,y,n,y,n,n,y,n,y,?,y,y,y,?,n,n,y\n",
            "democrat,y,?,y,n,n,n,y,y,y,n,n,n,y,n,y,y\n",
            "republican,n,y,n,y,y,y,n,n,n,n,n,?,y,y,n,n\n",
            "democrat,y,y,y,n,n,n,y,y,y,n,y,n,n,n,y,y\n",
            "democrat,y,y,y,n,n,?,y,y,n,n,y,n,n,n,y,y\n",
            "democrat,y,y,y,n,n,n,y,y,y,n,n,n,?,?,y,y\n",
            "democrat,y,?,y,n,n,n,y,y,y,n,n,?,n,n,y,y\n",
            "democrat,y,y,y,n,n,n,y,y,y,n,n,n,n,n,y,y\n",
            "democrat,y,n,y,n,n,n,y,y,y,n,n,n,n,n,y,?\n",
            "democrat,y,n,y,n,n,n,y,y,y,y,n,n,n,n,y,y\n",
            "democrat,y,n,y,n,n,n,y,y,y,n,y,n,n,n,y,y\n",
            "democrat,y,y,y,n,n,n,y,y,y,n,y,n,n,n,y,y\n",
            "republican,y,n,n,y,y,n,y,y,y,n,n,y,y,y,n,y\n",
            "democrat,y,y,y,n,n,n,y,y,y,n,y,n,n,n,y,y\n",
            "republican,n,y,n,y,y,y,n,n,n,n,n,y,y,y,n,n\n",
            "democrat,y,y,y,n,n,n,y,y,y,n,y,n,n,n,y,?\n",
            "democrat,y,y,y,n,n,n,y,y,y,y,n,n,y,n,y,y\n",
            "republican,n,y,n,y,y,y,n,n,n,n,n,y,y,y,n,y\n",
            "democrat,y,y,y,n,n,n,y,y,y,n,n,n,n,n,y,y\n",
            "republican,n,y,n,y,y,y,n,n,n,n,n,y,y,y,n,n\n",
            "republican,y,?,n,y,y,y,n,n,n,y,n,y,?,y,n,y\n",
            "republican,y,y,n,y,y,y,n,n,n,n,n,n,y,y,n,y\n",
            "republican,n,y,n,y,y,y,n,n,n,y,n,y,y,y,n,n\n",
            "democrat,y,n,y,n,n,n,y,y,y,y,y,n,y,n,y,y\n",
            "democrat,y,y,y,n,n,n,y,y,y,n,?,n,n,n,n,?\n",
            "democrat,y,y,y,n,n,n,y,y,y,n,n,n,n,n,y,?\n",
            "democrat,y,n,y,n,n,n,y,y,y,n,n,n,n,n,n,y\n",
            "democrat,y,n,y,n,n,n,y,y,y,n,n,n,n,n,y,y\n",
            "democrat,y,y,y,n,n,n,y,y,y,n,y,n,n,n,n,?\n",
            "democrat,y,y,y,n,n,n,y,y,?,n,y,n,n,n,y,?\n",
            "democrat,y,y,y,n,n,n,y,y,y,n,n,n,n,n,n,y\n",
            "democrat,y,n,y,n,n,n,y,y,?,n,n,n,n,n,n,?\n",
            "democrat,y,y,y,n,n,n,y,y,n,n,n,n,n,y,n,y\n",
            "republican,n,?,n,y,y,y,n,n,n,n,n,y,y,y,n,n\n",
            "democrat,y,y,y,n,n,n,y,y,y,n,y,n,n,n,y,y\n",
            "republican,n,y,n,y,y,y,n,?,n,n,n,y,y,y,n,y\n",
            "democrat,y,y,y,n,n,n,y,y,y,n,n,n,n,n,?,?\n",
            "republican,y,y,n,y,y,y,n,n,n,y,n,y,y,y,n,n\n",
            "democrat,y,y,y,n,n,y,?,y,n,n,y,y,n,y,n,?\n",
            "republican,n,y,n,y,y,y,n,n,n,y,y,y,y,y,n,n\n",
            "republican,n,y,n,y,y,y,n,n,n,y,y,y,y,y,n,y\n",
            "republican,n,y,n,y,y,y,n,n,n,y,n,y,y,y,n,y\n",
            "republican,n,y,n,y,y,y,n,n,n,y,n,y,y,y,n,y\n",
            "republican,n,y,n,y,y,y,n,n,n,y,n,y,y,y,n,?\n",
            "democrat,y,y,y,n,n,?,y,y,y,y,n,n,n,n,y,?\n",
            "republican,n,y,n,y,y,y,n,n,n,n,n,y,y,y,n,n\n",
            "democrat,y,y,y,n,n,n,y,y,y,n,n,n,n,n,n,?\n",
            "democrat,y,y,y,n,n,n,y,y,y,n,y,n,n,n,n,y\n",
            "democrat,y,y,y,n,n,n,y,y,y,n,y,?,n,n,n,y\n",
            "republican,y,y,n,y,y,y,y,n,n,n,n,y,y,y,n,y\n",
            "republican,n,y,n,y,y,y,y,n,n,n,y,y,y,y,n,y\n",
            "republican,n,y,n,y,y,y,n,n,n,y,n,y,y,y,n,n\n",
            "democrat,y,?,y,n,n,n,y,y,y,n,n,n,y,n,y,y\n",
            "democrat,y,y,y,n,n,n,y,y,y,n,n,n,n,n,y,y\n",
            "democrat,y,n,y,n,n,n,y,y,y,n,n,n,y,n,y,?\n",
            "republican,y,y,y,y,n,n,y,y,y,y,y,n,n,y,n,y\n",
            "democrat,y,y,y,n,n,n,y,y,y,n,y,n,n,n,y,?\n",
            "republican,y,n,y,y,y,n,y,n,y,y,n,n,y,y,n,y\n",
            "democrat,y,n,y,n,n,y,y,y,y,y,y,n,n,y,y,y\n",
            "democrat,n,y,y,y,y,y,n,n,n,y,y,n,y,y,n,n\n",
            "democrat,n,y,y,n,y,y,n,n,n,y,y,y,y,y,n,?\n",
            "democrat,n,y,y,y,y,y,n,y,y,y,y,y,y,y,n,y\n",
            "democrat,y,y,y,n,y,y,n,n,n,y,y,n,y,y,n,y\n",
            "republican,n,n,n,y,y,n,n,n,n,y,n,y,y,y,n,n\n",
            "democrat,y,n,y,n,n,y,y,y,y,y,n,y,n,y,n,?\n",
            "democrat,y,n,y,n,n,n,y,y,?,y,y,y,n,y,n,y\n",
            "republican,n,n,n,y,y,y,n,n,n,y,n,y,y,y,n,y\n",
            "republican,n,n,n,y,y,y,n,n,n,n,n,y,y,y,n,n\n",
            "republican,n,?,n,y,y,y,n,n,n,y,n,y,y,y,n,n\n",
            "democrat,n,n,y,n,y,y,n,n,n,y,y,y,y,y,n,y\n",
            "republican,n,n,n,y,y,y,n,n,n,y,n,y,y,y,n,n\n",
            "republican,n,n,n,y,y,y,n,n,n,n,n,y,y,y,n,n\n",
            "democrat,n,y,y,n,y,y,y,n,y,y,y,n,y,y,n,y\n",
            "republican,n,n,n,y,y,y,n,n,n,y,n,?,y,y,n,?\n",
            "democrat,y,n,y,n,n,n,y,y,y,y,n,n,n,n,y,y\n",
            "democrat,y,n,y,n,n,n,y,y,y,y,y,n,n,n,y,y\n",
            "democrat,y,y,y,n,n,n,y,y,n,y,y,n,n,?,y,y\n",
            "democrat,y,n,y,n,n,n,y,n,y,y,y,n,n,n,y,y\n",
            "democrat,y,n,y,n,y,y,n,n,n,n,n,n,n,n,n,y\n",
            "democrat,y,n,y,n,y,y,n,?,?,n,y,?,?,?,y,y\n",
            "democrat,n,n,?,n,y,y,n,n,n,n,y,y,y,y,n,y\n",
            "democrat,y,n,n,n,y,y,y,n,n,y,y,n,n,y,n,y\n",
            "democrat,y,y,y,n,n,y,y,y,y,y,n,n,n,n,n,y\n",
            "republican,n,n,n,y,y,y,n,n,n,y,?,y,y,y,n,n\n",
            "democrat,y,n,n,n,y,y,n,n,n,n,y,y,n,y,n,y\n",
            "democrat,y,n,y,n,y,y,y,n,n,n,y,n,n,y,n,y\n",
            "democrat,y,n,y,n,y,y,y,n,?,n,y,n,y,y,y,?\n",
            "democrat,y,n,n,n,y,y,?,n,?,n,n,n,n,y,?,n\n",
            "democrat,?,?,?,?,n,y,y,y,y,y,?,n,y,y,n,?\n",
            "democrat,y,y,y,n,n,n,n,y,y,n,y,n,n,n,y,y\n",
            "republican,n,y,n,y,y,y,n,n,n,n,n,y,y,y,n,y\n",
            "republican,n,?,?,?,?,?,?,?,?,?,?,?,?,y,?,?\n",
            "democrat,y,?,y,n,n,n,y,y,y,n,n,n,n,n,y,?\n",
            "democrat,y,?,y,n,n,n,y,y,y,n,n,n,n,n,y,?\n",
            "democrat,n,n,y,n,n,n,y,y,y,y,n,n,n,n,y,y\n",
            "republican,n,?,n,y,y,y,n,n,n,y,n,y,y,y,n,y\n",
            "democrat,n,?,y,n,n,y,y,y,n,y,n,n,n,n,y,?\n",
            "republican,n,?,n,y,y,y,n,n,n,y,n,y,y,y,n,n\n",
            "democrat,y,?,y,n,n,n,y,y,y,n,n,n,n,n,y,?\n",
            "democrat,n,?,y,n,?,?,y,y,y,y,?,?,n,n,y,y\n",
            "democrat,y,n,y,n,n,n,y,y,y,n,y,n,n,n,y,y\n",
            "republican,y,y,y,y,y,n,y,n,n,n,n,y,y,y,n,y\n",
            "democrat,n,y,y,n,n,n,n,y,y,y,y,n,n,n,y,y\n",
            "republican,n,n,n,y,y,y,n,n,n,n,n,y,y,y,n,n\n",
            "republican,n,?,?,y,y,y,n,n,n,y,n,y,y,y,?,y\n",
            "republican,n,?,n,y,y,y,n,n,n,y,n,y,y,y,n,y\n",
            "republican,n,n,n,y,y,y,n,n,n,y,n,y,n,y,n,y\n",
            "republican,y,?,n,y,y,y,n,y,n,n,n,y,y,y,n,y\n",
            "democrat,n,?,y,n,n,n,y,y,y,n,n,n,n,n,y,y\n",
            "republican,n,?,n,y,y,y,n,n,n,y,n,y,y,y,n,y\n",
            "republican,n,?,n,y,y,y,n,n,n,n,n,y,y,y,n,n\n",
            "democrat,n,?,y,n,n,n,y,y,y,y,y,n,n,y,y,y\n",
            "democrat,n,?,y,n,n,y,n,y,n,y,y,n,n,n,y,y\n",
            "democrat,?,?,y,n,n,n,y,y,?,n,?,?,?,?,?,?\n",
            "democrat,y,?,y,n,?,?,y,y,y,n,n,n,n,n,y,?\n",
            "democrat,n,n,y,n,n,y,n,y,y,y,n,n,n,y,n,y\n",
            "republican,n,n,n,y,y,y,n,n,n,y,n,y,y,y,n,?\n",
            "republican,n,n,n,y,y,y,n,n,n,y,n,y,y,y,n,y\n",
            "republican,n,n,n,y,y,y,n,n,n,n,n,y,y,y,n,?\n",
            "republican,n,n,n,y,y,y,n,n,n,y,n,y,y,y,n,n\n",
            "republican,n,y,n,y,y,y,n,n,n,y,y,y,y,n,n,y\n",
            "democrat,n,?,y,n,n,y,y,y,y,y,n,n,n,y,y,y\n",
            "democrat,n,n,y,n,n,y,y,y,y,y,n,n,n,y,n,y\n",
            "democrat,y,n,y,n,n,y,y,y,y,n,n,n,n,n,y,y\n",
            "republican,n,n,n,y,n,n,y,y,y,y,n,n,y,y,n,y\n",
            "republican,n,n,n,y,y,y,y,y,y,y,n,y,y,y,?,y\n",
            "republican,n,n,n,y,y,y,y,y,y,y,n,y,y,y,n,y\n",
            "democrat,?,y,n,n,n,n,y,y,y,y,y,n,n,y,y,y\n",
            "democrat,n,?,n,n,n,y,y,y,y,y,n,n,n,y,n,?\n",
            "democrat,n,n,y,n,n,y,y,y,y,y,n,n,n,y,?,y\n",
            "republican,n,y,n,y,y,y,n,n,n,n,n,y,y,y,n,y\n",
            "democrat,n,n,n,n,n,n,y,y,y,y,n,y,y,y,y,y\n",
            "republican,n,y,n,y,y,y,n,n,n,y,y,y,y,y,n,y\n",
            "democrat,n,n,y,n,n,n,y,y,y,y,n,n,y,n,y,y\n",
            "republican,y,y,n,y,y,y,n,n,n,y,n,y,y,y,n,y\n",
            "democrat,y,y,?,y,y,y,n,n,y,n,y,?,y,y,n,n\n",
            "democrat,n,y,y,n,n,y,n,y,y,y,y,n,y,n,y,y\n",
            "democrat,n,n,y,n,n,y,y,y,y,y,y,n,y,y,n,y\n",
            "republican,n,y,n,y,y,y,n,n,n,n,n,y,y,y,n,n\n",
            "republican,y,y,n,y,y,y,n,?,n,n,y,y,y,y,n,n\n",
            "republican,y,y,n,y,y,y,y,n,n,n,n,y,y,y,n,n\n",
            "democrat,n,y,y,n,n,y,n,y,y,n,y,n,?,?,?,?\n",
            "republican,n,y,n,y,y,y,n,n,n,y,n,y,y,y,n,n\n",
            "democrat,n,y,y,n,?,y,y,y,y,y,y,n,n,?,n,?\n",
            "democrat,n,y,n,n,y,y,n,n,n,n,n,y,y,y,y,y\n",
            "democrat,n,n,n,n,y,y,y,n,n,n,n,y,y,y,n,y\n",
            "democrat,n,y,y,n,y,y,y,n,n,n,y,y,y,y,n,y\n",
            "republican,n,y,n,y,y,y,y,n,n,n,n,y,y,y,n,y\n",
            "democrat,y,y,n,n,y,y,n,n,n,y,y,y,y,y,n,?\n",
            "democrat,n,y,y,n,n,y,y,y,y,y,y,n,y,n,y,?\n",
            "republican,y,n,y,y,y,y,y,y,n,y,n,y,n,y,y,y\n",
            "republican,y,n,y,y,y,y,y,y,n,y,y,y,n,y,y,y\n",
            "democrat,n,n,y,y,y,y,n,n,y,n,n,n,y,y,y,?\n",
            "democrat,y,n,y,n,n,n,y,y,y,y,y,n,n,y,n,y\n",
            "democrat,y,n,y,n,n,n,?,y,y,?,n,n,n,n,y,?\n",
            "republican,n,?,n,y,y,y,n,n,n,y,n,y,y,y,n,y\n",
            "democrat,n,y,y,n,n,n,y,y,y,y,n,n,?,n,y,y\n",
            "democrat,n,n,n,n,y,y,n,n,n,y,y,y,y,y,n,y\n",
            "democrat,y,?,y,n,n,n,y,y,y,n,n,n,n,n,y,?\n",
            "democrat,n,y,y,n,n,n,y,y,y,y,n,n,n,n,y,y\n",
            "republican,n,n,y,y,n,n,y,y,y,y,n,n,n,y,y,y\n",
            "democrat,n,n,y,n,n,n,y,y,y,y,y,?,n,n,y,y\n",
            "democrat,?,n,y,n,n,n,y,y,y,y,y,?,n,n,y,?\n",
            "democrat,y,n,y,n,n,n,y,y,y,y,n,n,n,n,y,y\n",
            "democrat,?,?,y,n,n,n,y,y,y,?,?,n,n,n,?,?\n",
            "democrat,n,n,y,n,n,n,y,y,y,y,y,n,n,n,y,y\n",
            "democrat,y,?,y,n,n,n,y,y,y,n,n,n,n,n,y,y\n",
            "democrat,?,?,?,?,?,?,?,?,y,?,?,?,?,?,?,?\n",
            "democrat,n,n,y,n,n,n,y,y,y,y,y,n,n,n,y,y\n",
            "democrat,y,n,y,n,n,n,y,y,y,y,n,?,n,n,y,y\n",
            "democrat,n,y,y,n,n,n,y,y,y,y,y,n,n,n,y,y\n",
            "democrat,y,n,y,n,n,n,y,y,y,n,n,n,n,n,y,?\n",
            "republican,y,?,n,y,y,y,y,y,n,n,n,y,?,y,?,?\n",
            "democrat,y,n,y,n,n,n,y,y,y,n,n,n,n,n,y,y\n",
            "republican,n,?,n,y,y,y,n,n,n,n,n,y,y,y,n,?\n",
            "republican,n,y,n,y,y,y,n,?,n,y,n,y,y,y,n,?\n",
            "democrat,n,n,n,n,n,y,y,y,y,n,y,n,n,y,y,y\n",
            "democrat,n,n,y,n,n,n,y,y,y,n,n,n,n,n,y,y\n",
            "democrat,n,n,y,n,n,y,y,?,y,y,y,n,n,n,y,y\n",
            "republican,n,n,n,y,y,y,n,n,n,n,n,y,y,y,n,?\n",
            "democrat,n,n,y,n,n,y,y,y,y,n,y,y,n,y,y,?\n",
            "republican,n,?,y,y,y,y,n,n,n,y,n,n,n,y,n,y\n",
            "democrat,n,n,y,n,n,n,y,y,y,y,y,n,?,n,y,?\n",
            "democrat,y,y,n,n,n,n,y,y,?,n,y,n,n,n,y,?\n",
            "democrat,n,n,y,n,n,n,y,y,y,n,n,n,n,y,y,y\n",
            "democrat,y,y,y,n,n,n,y,y,y,n,n,n,n,n,y,y\n",
            "democrat,y,n,y,n,n,y,y,y,y,y,y,n,n,n,y,y\n",
            "democrat,y,n,y,n,n,n,y,y,y,y,n,n,n,n,y,y\n",
            "republican,n,n,y,y,y,y,y,n,n,n,n,y,y,y,n,y\n",
            "democrat,n,n,y,n,n,y,y,y,y,y,n,y,n,n,n,y\n",
            "republican,n,n,n,y,y,y,n,n,n,y,n,y,n,y,n,y\n",
            "republican,y,?,n,y,y,y,y,n,n,y,n,y,y,y,n,y\n",
            "democrat,n,n,y,n,n,n,y,y,y,n,n,?,n,n,y,y\n",
            "democrat,y,y,y,n,n,n,y,y,y,y,y,n,n,n,n,y\n",
            "democrat,n,n,y,n,n,y,y,y,y,n,n,n,n,n,y,y\n",
            "republican,n,y,n,y,y,y,n,n,n,y,n,y,y,y,n,y\n",
            "democrat,n,n,y,n,n,n,y,y,y,n,y,n,n,n,y,y\n",
            "democrat,n,y,y,n,n,y,n,y,y,n,y,n,y,n,y,y\n",
            "republican,y,y,n,y,y,y,n,n,n,y,n,y,y,y,n,y\n",
            "democrat,n,y,y,y,y,y,n,n,n,y,y,y,y,y,y,?\n",
            "democrat,y,y,y,n,y,y,n,n,?,y,n,n,n,y,y,?\n",
            "republican,n,y,n,y,y,y,n,n,n,y,n,y,y,y,n,n\n",
            "democrat,y,?,y,n,n,n,y,y,y,n,?,n,n,n,y,?\n",
            "democrat,n,y,y,n,n,n,n,y,y,n,y,n,n,y,y,y\n",
            "democrat,n,n,y,n,n,n,y,y,y,n,n,n,n,n,y,?\n",
            "democrat,n,y,y,n,y,y,n,n,n,n,y,n,n,n,y,?\n",
            "democrat,y,n,y,n,n,n,y,y,y,n,y,n,n,n,y,?\n",
            "republican,n,n,n,y,y,n,n,n,n,n,n,y,y,y,n,y\n",
            "republican,n,y,n,y,y,y,n,n,n,y,n,?,y,y,n,n\n",
            "republican,n,?,n,y,y,y,n,n,n,n,n,y,y,y,n,y\n",
            "democrat,n,n,y,n,n,y,y,y,y,n,y,n,n,y,y,y\n",
            "democrat,y,n,y,n,n,n,y,y,y,n,n,n,n,n,?,y\n",
            "republican,n,y,n,y,y,y,n,n,n,n,n,y,y,?,n,y\n",
            "republican,n,y,y,y,y,y,y,n,y,y,n,y,y,y,n,y\n",
            "republican,n,y,n,y,y,y,n,n,n,n,n,y,y,y,n,y\n",
            "republican,n,y,n,y,y,y,n,n,y,y,n,y,y,y,n,y\n",
            "democrat,n,y,y,n,n,n,y,y,n,n,y,n,n,n,y,?\n",
            "republican,n,y,n,y,y,y,n,n,n,y,n,y,y,y,n,y\n",
            "democrat,n,n,y,n,n,y,y,y,y,y,n,y,n,y,y,?\n",
            "republican,n,n,n,y,y,y,n,n,n,y,n,y,n,y,n,y\n",
            "democrat,n,n,y,n,n,n,y,y,y,n,n,n,n,n,y,y\n",
            "democrat,y,n,y,n,n,y,y,y,n,n,n,y,y,n,n,y\n",
            "democrat,y,y,y,n,n,n,y,y,?,y,n,n,n,n,y,?\n",
            "republican,n,n,n,y,y,y,y,n,n,y,n,n,n,y,y,y\n",
            "republican,n,n,n,y,n,y,y,?,y,n,n,y,y,y,n,y\n",
            "democrat,y,n,y,n,n,n,y,y,y,y,y,n,n,y,y,y\n",
            "republican,n,n,n,n,y,y,y,n,n,n,n,?,n,y,y,y\n",
            "democrat,n,y,y,n,n,n,y,y,?,y,n,n,y,n,y,y\n",
            "democrat,y,n,y,n,n,n,n,y,y,y,n,n,n,n,y,y\n",
            "democrat,y,n,y,n,n,n,y,y,y,y,y,n,n,n,y,y\n",
            "democrat,n,n,y,n,y,n,y,y,y,n,n,n,n,y,?,y\n",
            "republican,n,y,n,y,y,y,?,n,n,n,n,?,y,y,n,n\n",
            "republican,?,?,?,?,?,?,?,?,?,?,?,?,?,?,?,?\n",
            "democrat,y,n,y,n,n,n,y,y,?,n,y,n,n,n,y,y\n",
            "republican,n,y,n,y,y,y,n,n,n,n,n,y,y,y,n,n\n",
            "republican,n,y,n,y,y,y,n,n,n,n,n,y,y,y,n,n\n",
            "democrat,y,y,y,n,n,y,y,y,y,n,n,n,n,n,y,y\n",
            "republican,n,y,n,y,y,y,n,n,n,n,n,y,y,y,n,y\n",
            "democrat,y,n,y,n,n,n,y,y,y,y,n,n,n,n,n,y\n",
            "democrat,y,n,y,n,n,n,y,y,y,y,n,n,n,y,y,y\n",
            "republican,n,n,n,y,y,n,n,n,n,n,n,y,n,y,n,n\n",
            "republican,n,n,n,y,y,n,n,n,n,n,n,y,n,y,?,y\n",
            "democrat,n,n,y,n,n,n,y,y,y,n,y,n,n,n,y,y\n",
            "democrat,y,n,y,n,n,n,y,y,y,n,n,n,n,n,n,y\n",
            "democrat,y,n,y,n,n,n,y,y,y,y,n,n,n,n,n,y\n",
            "democrat,y,n,y,n,n,?,y,y,y,n,?,?,n,?,?,?\n",
            "democrat,y,n,y,n,n,n,y,y,y,y,n,n,?,n,y,y\n",
            "democrat,y,n,y,n,n,n,y,y,y,n,n,n,n,n,y,?\n",
            "democrat,y,n,y,n,n,n,y,y,y,n,n,n,n,n,y,?\n",
            "democrat,y,n,y,n,n,n,y,y,y,y,n,n,n,n,n,y\n",
            "republican,n,n,n,y,y,y,n,n,n,y,n,y,n,y,n,y\n",
            "republican,y,n,n,n,n,n,y,y,y,y,n,n,n,y,n,y\n",
            "democrat,y,n,y,n,n,n,y,y,y,n,n,n,n,n,y,?\n",
            "democrat,y,n,y,n,n,n,y,y,y,n,n,n,n,n,n,y\n",
            "democrat,y,y,y,n,n,n,y,y,y,n,n,n,n,n,y,y\n",
            "democrat,n,y,y,n,n,y,y,y,y,n,?,n,n,n,n,y\n",
            "democrat,y,n,y,n,n,n,y,y,y,y,n,n,n,n,y,?\n",
            "republican,n,n,n,y,y,n,y,y,n,y,n,y,y,y,?,y\n",
            "republican,y,n,n,y,y,n,y,n,n,y,n,n,n,y,y,y\n",
            "democrat,n,n,y,n,y,y,n,n,n,n,?,n,y,y,n,n\n",
            "republican,n,n,n,y,y,y,n,n,n,n,n,y,y,y,y,n\n",
            "republican,n,n,y,y,y,y,y,y,n,y,n,n,n,y,n,y\n",
            "republican,n,n,n,y,y,y,n,n,n,n,n,y,y,y,n,y\n",
            "republican,n,n,n,y,y,y,n,n,n,y,n,y,y,y,n,n\n",
            "democrat,n,n,y,n,n,n,y,y,y,y,n,n,n,y,n,y\n",
            "republican,y,n,y,y,y,y,y,y,n,n,n,n,n,y,n,?\n",
            "republican,y,n,n,y,y,y,n,n,n,y,n,?,y,y,n,n\n",
            "republican,n,n,n,y,y,y,n,n,n,n,n,y,y,y,n,y\n",
            "democrat,n,n,y,n,n,y,y,y,y,y,y,n,n,n,?,y\n",
            "democrat,n,n,y,n,n,y,y,y,y,y,y,n,n,n,y,y\n",
            "democrat,n,n,y,n,n,y,?,y,?,y,y,y,n,y,y,?\n",
            "democrat,y,y,y,?,n,y,y,y,y,n,y,n,y,n,?,y\n",
            "democrat,y,y,y,n,y,y,n,y,n,y,y,n,y,y,y,y\n",
            "democrat,y,y,y,n,y,y,n,y,n,y,y,n,y,y,n,?\n",
            "democrat,y,n,y,n,?,y,?,y,y,y,n,n,y,y,n,y\n",
            "democrat,y,n,y,n,n,y,y,y,y,y,n,?,n,y,n,y\n",
            "democrat,y,n,y,n,n,y,y,y,n,y,y,n,y,y,y,y\n",
            "democrat,y,y,y,n,n,y,y,y,y,y,y,n,y,y,y,y\n",
            "democrat,n,y,y,n,n,y,y,y,n,y,y,n,y,y,n,?\n",
            "republican,n,y,n,y,y,y,?,?,n,y,n,y,?,?,?,?\n",
            "republican,n,n,y,y,y,y,n,n,n,y,n,y,y,y,y,y\n",
            "democrat,y,y,y,n,n,y,y,y,y,y,n,n,?,n,y,?\n",
            "democrat,n,y,n,n,n,n,y,y,y,y,y,n,n,n,y,y\n",
            "democrat,n,y,y,n,n,y,y,y,y,y,n,n,y,y,y,y\n",
            "republican,n,n,n,y,y,n,y,y,y,y,n,y,y,y,n,y\n",
            "democrat,n,n,?,n,n,y,y,y,y,n,n,n,n,n,y,y\n",
            "republican,n,n,n,y,y,y,y,n,n,y,n,y,y,y,n,y\n",
            "republican,n,n,n,y,y,y,n,n,n,n,n,y,y,y,n,n\n",
            "republican,n,y,n,y,y,y,n,n,n,y,n,y,y,y,n,?\n",
            "republican,n,n,n,y,y,y,n,n,n,y,n,y,y,y,n,n\n",
            "republican,n,n,n,y,y,y,n,n,n,n,n,y,y,y,n,n\n",
            "democrat,y,n,y,n,n,y,y,y,y,n,n,n,n,y,n,?\n",
            "republican,n,n,n,y,y,y,n,n,n,y,n,y,y,y,n,n\n",
            "democrat,y,n,n,n,n,y,y,y,y,y,n,n,n,y,y,y\n",
            "republican,n,n,n,y,y,y,n,n,n,y,n,y,y,y,y,n\n",
            "democrat,n,n,y,n,n,y,y,y,y,y,n,n,y,n,n,y\n",
            "democrat,y,y,y,n,n,n,y,y,y,y,n,n,n,n,y,y\n",
            "republican,n,y,y,y,y,y,n,n,n,y,n,y,y,y,n,y\n",
            "republican,n,y,n,y,y,y,y,y,n,n,y,y,y,y,y,y\n",
            "republican,n,y,y,y,y,y,y,?,n,n,n,n,?,?,y,?\n",
            "democrat,n,n,n,n,n,y,n,y,y,n,y,y,y,y,y,n\n",
            "democrat,y,n,n,n,n,n,y,y,y,y,n,n,n,n,y,y\n",
            "democrat,n,n,y,n,n,n,y,y,y,n,n,n,n,n,y,?\n",
            "democrat,y,n,y,n,n,n,y,y,y,n,n,n,n,n,y,?\n",
            "democrat,n,y,y,n,n,y,n,y,y,y,n,n,y,y,n,y\n",
            "democrat,y,y,y,n,n,n,y,y,y,y,n,n,y,n,n,y\n",
            "democrat,y,y,y,n,?,y,n,?,n,n,y,n,y,y,n,?\n",
            "democrat,y,y,y,n,y,y,n,y,?,y,n,n,y,y,n,?\n",
            "republican,n,y,n,y,y,y,n,n,n,n,y,y,y,y,n,n\n",
            "democrat,n,y,n,n,y,y,n,n,?,n,n,y,y,y,n,y\n",
            "democrat,y,y,n,y,n,n,y,y,y,n,y,n,n,y,n,y\n",
            "republican,n,y,n,y,y,y,n,n,n,n,n,y,y,y,n,y\n",
            "democrat,y,y,y,n,n,n,y,y,y,n,y,n,n,n,n,y\n",
            "democrat,y,?,y,n,n,y,y,y,y,y,n,n,n,n,y,?\n",
            "republican,n,y,n,y,y,y,n,n,n,y,n,y,y,y,n,n\n",
            "democrat,y,?,y,n,n,n,y,y,y,n,n,n,n,n,y,?\n",
            "democrat,y,n,y,n,n,n,y,y,y,n,y,n,n,n,y,?\n",
            "democrat,n,n,y,n,n,n,y,y,y,n,n,n,n,n,y,y\n",
            "democrat,n,y,y,n,n,y,y,y,?,n,y,y,n,n,y,y\n",
            "republican,n,n,n,y,y,y,n,n,n,y,y,y,y,y,n,?\n",
            "democrat,n,n,y,n,n,y,y,y,n,n,y,n,n,y,?,y\n",
            "democrat,y,n,y,n,n,n,y,y,y,n,n,n,n,n,y,y\n",
            "democrat,y,n,y,n,n,n,y,y,y,y,n,n,n,y,y,y\n",
            "republican,y,n,n,y,y,y,n,n,n,n,y,y,y,y,n,n\n",
            "republican,n,n,n,y,y,y,n,n,n,y,y,y,n,y,n,y\n",
            "democrat,n,?,y,?,n,y,y,y,y,y,y,n,?,?,y,y\n",
            "democrat,n,y,y,n,y,?,y,n,n,y,y,n,y,n,y,y\n",
            "republican,n,n,n,y,y,n,y,n,y,y,n,n,n,y,n,y\n",
            "democrat,n,n,y,n,n,n,y,y,y,y,y,n,n,n,y,y\n",
            "republican,n,n,n,y,y,y,y,n,n,y,n,y,n,y,y,y\n",
            "republican,n,n,n,y,y,y,n,n,n,y,n,y,y,y,n,y\n",
            "republican,y,n,n,y,y,y,n,n,n,y,n,y,y,y,n,n\n",
            "democrat,y,n,y,n,n,n,y,y,y,y,n,y,n,n,y,?\n",
            "republican,n,y,y,y,y,y,y,y,y,n,n,y,y,y,n,y\n",
            "democrat,n,y,n,n,n,y,y,n,y,n,y,n,n,n,y,y\n",
            "republican,n,n,y,y,y,y,y,y,y,y,n,y,y,y,y,y\n",
            "democrat,n,y,n,y,n,y,y,y,y,n,y,n,y,n,y,?\n",
            "republican,n,n,y,y,y,y,y,n,n,y,y,y,y,y,n,y\n",
            "democrat,n,y,y,n,n,y,y,y,y,y,n,?,n,n,y,y\n",
            "republican,y,n,y,y,n,n,n,y,y,y,n,n,n,y,y,y\n",
            "republican,n,n,n,y,y,y,n,n,n,n,n,y,y,y,n,n\n",
            "republican,n,n,n,y,y,y,n,n,n,n,n,y,y,y,n,n\n",
            "democrat,y,y,y,n,n,y,y,y,y,y,y,y,y,y,n,?\n",
            "republican,n,n,n,y,y,y,n,n,n,y,?,y,y,y,n,y\n",
            "democrat,y,n,y,n,n,y,y,y,y,y,n,n,y,n,n,y\n",
            "democrat,y,n,y,n,y,y,y,n,y,y,n,n,y,y,n,?\n",
            "democrat,y,y,y,n,n,y,y,y,y,y,y,y,y,n,n,y\n",
            "republican,y,y,n,y,y,y,n,n,n,y,y,n,y,n,n,n\n",
            "republican,y,y,n,y,y,y,n,n,n,n,y,n,y,y,n,y\n",
            "democrat,n,y,n,n,y,y,n,n,n,y,y,n,y,y,n,n\n",
            "democrat,y,n,y,n,n,n,y,y,n,y,y,n,n,n,n,?\n",
            "democrat,y,y,y,n,y,y,y,y,n,y,y,n,n,n,y,?\n",
            "democrat,n,y,y,n,n,y,y,y,n,y,n,n,n,n,y,y\n",
            "republican,n,y,n,y,y,y,n,n,n,n,n,n,y,y,n,y\n",
            "democrat,y,y,y,n,?,y,y,y,n,y,?,?,n,n,y,y\n",
            "democrat,y,y,y,n,?,n,y,y,y,y,n,n,n,n,y,?\n",
            "democrat,n,y,y,y,y,y,n,n,n,n,y,y,?,y,n,n\n",
            "democrat,n,y,y,?,y,y,n,y,n,y,?,n,y,y,?,y\n",
            "republican,n,y,n,y,y,y,n,n,n,n,n,y,y,y,n,y\n",
            "democrat,n,y,n,y,y,y,n,n,n,n,y,y,n,y,n,n\n",
            "democrat,y,?,y,n,n,n,y,y,y,n,y,n,n,n,y,y\n",
            "republican,n,y,n,y,y,y,?,?,n,n,?,?,y,?,?,?\n",
            "republican,n,n,n,y,y,y,n,n,n,n,n,y,y,y,n,y\n",
            "republican,n,n,n,y,y,y,n,n,n,n,n,y,y,y,n,y\n",
            "democrat,y,y,y,n,n,y,?,y,y,n,y,n,y,n,y,y\n",
            "democrat,y,y,y,n,y,y,y,y,y,y,y,n,y,y,n,?\n",
            "democrat,y,y,n,y,y,y,n,n,n,n,y,n,y,y,n,?\n",
            "democrat,y,y,y,n,y,y,n,y,y,y,y,n,n,n,n,y\n",
            "democrat,y,y,y,y,y,y,n,n,n,n,y,y,y,y,n,y\n",
            "democrat,y,y,n,n,y,y,n,n,n,n,y,y,y,y,y,n\n",
            "democrat,n,?,y,n,y,y,n,y,n,n,y,n,n,n,n,?\n",
            "democrat,y,y,y,n,y,y,n,y,y,n,y,n,n,y,n,?\n",
            "democrat,n,y,y,y,y,y,n,n,n,n,n,y,y,y,n,?\n",
            "democrat,y,n,y,n,n,n,y,y,y,?,y,n,n,n,y,?\n",
            "democrat,?,?,n,n,?,y,?,n,n,n,y,y,n,y,n,?\n",
            "democrat,y,y,n,n,n,n,n,y,y,n,y,n,n,n,y,n\n",
            "republican,y,y,n,y,y,y,n,n,n,n,y,y,y,y,n,y\n",
            "republican,?,?,?,?,n,y,n,y,y,n,n,y,y,n,n,?\n",
            "democrat,y,y,?,?,?,y,n,n,n,n,y,n,y,n,n,y\n",
            "democrat,y,y,y,?,n,n,n,y,n,n,y,?,n,n,y,y\n",
            "democrat,y,y,y,n,y,y,n,y,n,n,y,n,y,n,y,y\n",
            "democrat,y,y,n,n,y,?,n,n,n,n,y,n,y,y,n,y\n",
            "democrat,n,y,y,n,y,y,n,y,n,n,n,n,n,n,n,y\n",
            "republican,n,y,n,y,?,y,n,n,n,y,n,y,y,y,n,n\n",
            "republican,n,y,n,y,y,y,n,?,n,n,?,?,?,y,n,?\n",
            "republican,n,y,n,y,y,y,n,n,n,y,y,y,y,y,n,n\n",
            "republican,?,n,y,y,n,y,y,y,y,y,n,y,n,y,n,y\n",
            "republican,n,y,n,y,y,y,n,n,n,y,n,y,?,y,n,n\n",
            "republican,y,y,n,y,y,y,n,n,n,y,n,y,y,y,n,y\n",
            "republican,n,n,n,y,y,y,n,n,n,n,n,y,y,y,n,y\n",
            "democrat,y,n,y,n,y,y,n,n,y,y,n,n,y,y,n,y\n",
            "democrat,n,n,n,y,y,y,n,n,n,n,y,y,y,y,n,n\n",
            "democrat,y,n,y,n,n,y,y,y,y,n,n,y,?,y,y,y\n",
            "republican,n,n,n,y,y,y,n,n,n,n,n,y,y,y,n,n\n",
            "republican,n,n,n,y,y,y,n,n,n,n,y,y,y,y,n,y\n",
            "democrat,y,n,y,n,n,y,y,y,y,y,y,n,n,n,n,y\n",
            "republican,n,n,n,y,y,y,n,n,n,y,n,y,y,y,n,y\n",
            "republican,y,y,y,y,y,y,y,y,n,y,?,?,?,y,n,y\n",
            "democrat,y,y,y,n,n,n,y,y,y,n,n,n,n,n,n,y\n",
            "democrat,n,y,y,n,n,y,y,y,?,y,n,n,n,n,n,y\n",
            "republican,y,y,n,y,y,y,n,n,n,y,n,n,y,y,n,y\n",
            "democrat,y,y,y,n,n,n,y,y,y,y,y,n,y,n,n,y\n",
            "democrat,y,y,y,n,n,n,y,y,n,y,n,n,n,n,n,y\n",
            "democrat,y,y,y,n,n,n,y,y,y,n,n,n,n,n,n,y\n",
            "republican,y,y,y,y,y,y,y,y,n,y,n,n,y,y,n,y\n",
            "democrat,n,y,y,n,y,y,y,y,n,n,y,n,y,n,y,y\n",
            "democrat,n,n,y,n,n,y,y,y,y,n,y,n,n,n,y,y\n",
            "democrat,n,y,y,n,n,y,y,y,y,n,y,n,n,y,y,y\n",
            "democrat,n,y,y,n,n,?,y,y,y,y,y,n,?,y,y,y\n",
            "democrat,n,n,y,n,n,n,y,y,n,y,y,n,n,n,y,?\n",
            "democrat,y,n,y,n,n,n,y,y,y,y,n,n,n,n,y,y\n",
            "republican,n,n,n,y,y,y,y,y,n,y,n,y,y,y,n,y\n",
            "democrat,?,?,?,n,n,n,y,y,y,y,n,n,y,n,y,y\n",
            "democrat,y,n,y,n,?,n,y,y,y,y,n,y,n,?,y,y\n",
            "republican,n,n,y,y,y,y,n,n,y,y,n,y,y,y,n,y\n",
            "democrat,n,n,y,n,n,n,y,y,y,y,n,n,n,n,n,y\n",
            "republican,n,?,n,y,y,y,n,n,n,n,y,y,y,y,n,y\n",
            "republican,n,n,n,y,y,y,?,?,?,?,n,y,y,y,n,y\n",
            "republican,n,y,n,y,y,y,n,n,n,y,n,y,y,y,?,n\n"
          ],
          "name": "stdout"
        }
      ]
    },
    {
      "cell_type": "code",
      "metadata": {
        "id": "_l70t9Xtfokj",
        "colab_type": "code",
        "colab": {}
      },
      "source": [
        "poll_abs_data= pd.read_csv(political_data_url)"
      ],
      "execution_count": 0,
      "outputs": []
    },
    {
      "cell_type": "code",
      "metadata": {
        "id": "HT0ywDTrgSpV",
        "colab_type": "code",
        "colab": {
          "base_uri": "https://localhost:8080/",
          "height": 376
        },
        "outputId": "a500fe37-42ae-4d82-99b3-09393965932a"
      },
      "source": [
        "print(poll_abs_data.shape)\n",
        "poll_abs_data.head(10)"
      ],
      "execution_count": 103,
      "outputs": [
        {
          "output_type": "stream",
          "text": [
            "(434, 17)\n"
          ],
          "name": "stdout"
        },
        {
          "output_type": "execute_result",
          "data": {
            "text/html": [
              "<div>\n",
              "<style scoped>\n",
              "    .dataframe tbody tr th:only-of-type {\n",
              "        vertical-align: middle;\n",
              "    }\n",
              "\n",
              "    .dataframe tbody tr th {\n",
              "        vertical-align: top;\n",
              "    }\n",
              "\n",
              "    .dataframe thead th {\n",
              "        text-align: right;\n",
              "    }\n",
              "</style>\n",
              "<table border=\"1\" class=\"dataframe\">\n",
              "  <thead>\n",
              "    <tr style=\"text-align: right;\">\n",
              "      <th></th>\n",
              "      <th>republican</th>\n",
              "      <th>n</th>\n",
              "      <th>y</th>\n",
              "      <th>n.1</th>\n",
              "      <th>y.1</th>\n",
              "      <th>y.2</th>\n",
              "      <th>y.3</th>\n",
              "      <th>n.2</th>\n",
              "      <th>n.3</th>\n",
              "      <th>n.4</th>\n",
              "      <th>y.4</th>\n",
              "      <th>?</th>\n",
              "      <th>y.5</th>\n",
              "      <th>y.6</th>\n",
              "      <th>y.7</th>\n",
              "      <th>n.5</th>\n",
              "      <th>y.8</th>\n",
              "    </tr>\n",
              "  </thead>\n",
              "  <tbody>\n",
              "    <tr>\n",
              "      <th>0</th>\n",
              "      <td>republican</td>\n",
              "      <td>n</td>\n",
              "      <td>y</td>\n",
              "      <td>n</td>\n",
              "      <td>y</td>\n",
              "      <td>y</td>\n",
              "      <td>y</td>\n",
              "      <td>n</td>\n",
              "      <td>n</td>\n",
              "      <td>n</td>\n",
              "      <td>n</td>\n",
              "      <td>n</td>\n",
              "      <td>y</td>\n",
              "      <td>y</td>\n",
              "      <td>y</td>\n",
              "      <td>n</td>\n",
              "      <td>?</td>\n",
              "    </tr>\n",
              "    <tr>\n",
              "      <th>1</th>\n",
              "      <td>democrat</td>\n",
              "      <td>?</td>\n",
              "      <td>y</td>\n",
              "      <td>y</td>\n",
              "      <td>?</td>\n",
              "      <td>y</td>\n",
              "      <td>y</td>\n",
              "      <td>n</td>\n",
              "      <td>n</td>\n",
              "      <td>n</td>\n",
              "      <td>n</td>\n",
              "      <td>y</td>\n",
              "      <td>n</td>\n",
              "      <td>y</td>\n",
              "      <td>y</td>\n",
              "      <td>n</td>\n",
              "      <td>n</td>\n",
              "    </tr>\n",
              "    <tr>\n",
              "      <th>2</th>\n",
              "      <td>democrat</td>\n",
              "      <td>n</td>\n",
              "      <td>y</td>\n",
              "      <td>y</td>\n",
              "      <td>n</td>\n",
              "      <td>?</td>\n",
              "      <td>y</td>\n",
              "      <td>n</td>\n",
              "      <td>n</td>\n",
              "      <td>n</td>\n",
              "      <td>n</td>\n",
              "      <td>y</td>\n",
              "      <td>n</td>\n",
              "      <td>y</td>\n",
              "      <td>n</td>\n",
              "      <td>n</td>\n",
              "      <td>y</td>\n",
              "    </tr>\n",
              "    <tr>\n",
              "      <th>3</th>\n",
              "      <td>democrat</td>\n",
              "      <td>y</td>\n",
              "      <td>y</td>\n",
              "      <td>y</td>\n",
              "      <td>n</td>\n",
              "      <td>y</td>\n",
              "      <td>y</td>\n",
              "      <td>n</td>\n",
              "      <td>n</td>\n",
              "      <td>n</td>\n",
              "      <td>n</td>\n",
              "      <td>y</td>\n",
              "      <td>?</td>\n",
              "      <td>y</td>\n",
              "      <td>y</td>\n",
              "      <td>y</td>\n",
              "      <td>y</td>\n",
              "    </tr>\n",
              "    <tr>\n",
              "      <th>4</th>\n",
              "      <td>democrat</td>\n",
              "      <td>n</td>\n",
              "      <td>y</td>\n",
              "      <td>y</td>\n",
              "      <td>n</td>\n",
              "      <td>y</td>\n",
              "      <td>y</td>\n",
              "      <td>n</td>\n",
              "      <td>n</td>\n",
              "      <td>n</td>\n",
              "      <td>n</td>\n",
              "      <td>n</td>\n",
              "      <td>n</td>\n",
              "      <td>y</td>\n",
              "      <td>y</td>\n",
              "      <td>y</td>\n",
              "      <td>y</td>\n",
              "    </tr>\n",
              "    <tr>\n",
              "      <th>5</th>\n",
              "      <td>democrat</td>\n",
              "      <td>n</td>\n",
              "      <td>y</td>\n",
              "      <td>n</td>\n",
              "      <td>y</td>\n",
              "      <td>y</td>\n",
              "      <td>y</td>\n",
              "      <td>n</td>\n",
              "      <td>n</td>\n",
              "      <td>n</td>\n",
              "      <td>n</td>\n",
              "      <td>n</td>\n",
              "      <td>n</td>\n",
              "      <td>?</td>\n",
              "      <td>y</td>\n",
              "      <td>y</td>\n",
              "      <td>y</td>\n",
              "    </tr>\n",
              "    <tr>\n",
              "      <th>6</th>\n",
              "      <td>republican</td>\n",
              "      <td>n</td>\n",
              "      <td>y</td>\n",
              "      <td>n</td>\n",
              "      <td>y</td>\n",
              "      <td>y</td>\n",
              "      <td>y</td>\n",
              "      <td>n</td>\n",
              "      <td>n</td>\n",
              "      <td>n</td>\n",
              "      <td>n</td>\n",
              "      <td>n</td>\n",
              "      <td>n</td>\n",
              "      <td>y</td>\n",
              "      <td>y</td>\n",
              "      <td>?</td>\n",
              "      <td>y</td>\n",
              "    </tr>\n",
              "    <tr>\n",
              "      <th>7</th>\n",
              "      <td>republican</td>\n",
              "      <td>n</td>\n",
              "      <td>y</td>\n",
              "      <td>n</td>\n",
              "      <td>y</td>\n",
              "      <td>y</td>\n",
              "      <td>y</td>\n",
              "      <td>n</td>\n",
              "      <td>n</td>\n",
              "      <td>n</td>\n",
              "      <td>n</td>\n",
              "      <td>n</td>\n",
              "      <td>y</td>\n",
              "      <td>y</td>\n",
              "      <td>y</td>\n",
              "      <td>n</td>\n",
              "      <td>y</td>\n",
              "    </tr>\n",
              "    <tr>\n",
              "      <th>8</th>\n",
              "      <td>democrat</td>\n",
              "      <td>y</td>\n",
              "      <td>y</td>\n",
              "      <td>y</td>\n",
              "      <td>n</td>\n",
              "      <td>n</td>\n",
              "      <td>n</td>\n",
              "      <td>y</td>\n",
              "      <td>y</td>\n",
              "      <td>y</td>\n",
              "      <td>n</td>\n",
              "      <td>n</td>\n",
              "      <td>n</td>\n",
              "      <td>n</td>\n",
              "      <td>n</td>\n",
              "      <td>?</td>\n",
              "      <td>?</td>\n",
              "    </tr>\n",
              "    <tr>\n",
              "      <th>9</th>\n",
              "      <td>republican</td>\n",
              "      <td>n</td>\n",
              "      <td>y</td>\n",
              "      <td>n</td>\n",
              "      <td>y</td>\n",
              "      <td>y</td>\n",
              "      <td>n</td>\n",
              "      <td>n</td>\n",
              "      <td>n</td>\n",
              "      <td>n</td>\n",
              "      <td>n</td>\n",
              "      <td>?</td>\n",
              "      <td>?</td>\n",
              "      <td>y</td>\n",
              "      <td>y</td>\n",
              "      <td>n</td>\n",
              "      <td>n</td>\n",
              "    </tr>\n",
              "  </tbody>\n",
              "</table>\n",
              "</div>"
            ],
            "text/plain": [
              "   republican  n  y n.1 y.1 y.2 y.3 n.2 n.3 n.4 y.4  ? y.5 y.6 y.7 n.5 y.8\n",
              "0  republican  n  y   n   y   y   y   n   n   n   n  n   y   y   y   n   ?\n",
              "1    democrat  ?  y   y   ?   y   y   n   n   n   n  y   n   y   y   n   n\n",
              "2    democrat  n  y   y   n   ?   y   n   n   n   n  y   n   y   n   n   y\n",
              "3    democrat  y  y   y   n   y   y   n   n   n   n  y   ?   y   y   y   y\n",
              "4    democrat  n  y   y   n   y   y   n   n   n   n  n   n   y   y   y   y\n",
              "5    democrat  n  y   n   y   y   y   n   n   n   n  n   n   ?   y   y   y\n",
              "6  republican  n  y   n   y   y   y   n   n   n   n  n   n   y   y   ?   y\n",
              "7  republican  n  y   n   y   y   y   n   n   n   n  n   y   y   y   n   y\n",
              "8    democrat  y  y   y   n   n   n   y   y   y   n  n   n   n   n   ?   ?\n",
              "9  republican  n  y   n   y   y   n   n   n   n   n  ?   ?   y   y   n   n"
            ]
          },
          "metadata": {
            "tags": []
          },
          "execution_count": 103
        }
      ]
    },
    {
      "cell_type": "code",
      "metadata": {
        "id": "Ix69vf24iERM",
        "colab_type": "code",
        "colab": {}
      },
      "source": [
        "column_headers= ['Party','Handicapped-infants','Water-project-cost-sharing','Adoption-of-the-budget-resolution', \n",
        "                 'Physician-fee-freeze', 'El-Salvador-aid','Religious-groups-in-schools',\n",
        "                 'Anti-satellite-test-ban','Aid-to-nicaraguan-contras','MX-missile','Immigration','Synfuels-corporation-cutback',\n",
        "                 'Education-spending','Superfund-right-to-sue','Crime','Duty-free-exports','Export-administration-act-south-africa']"
      ],
      "execution_count": 0,
      "outputs": []
    },
    {
      "cell_type": "code",
      "metadata": {
        "id": "Jawu7RTQj1bM",
        "colab_type": "code",
        "colab": {
          "base_uri": "https://localhost:8080/",
          "height": 255
        },
        "outputId": "dab88110-4427-43d6-eece-28f88a75dcd7"
      },
      "source": [
        "poll_abs_data=pd.read_csv(political_data_url, header=None, names=column_headers)\n",
        "print(poll_abs_data.shape)\n",
        "poll_abs_data.head()"
      ],
      "execution_count": 105,
      "outputs": [
        {
          "output_type": "stream",
          "text": [
            "(435, 17)\n"
          ],
          "name": "stdout"
        },
        {
          "output_type": "execute_result",
          "data": {
            "text/html": [
              "<div>\n",
              "<style scoped>\n",
              "    .dataframe tbody tr th:only-of-type {\n",
              "        vertical-align: middle;\n",
              "    }\n",
              "\n",
              "    .dataframe tbody tr th {\n",
              "        vertical-align: top;\n",
              "    }\n",
              "\n",
              "    .dataframe thead th {\n",
              "        text-align: right;\n",
              "    }\n",
              "</style>\n",
              "<table border=\"1\" class=\"dataframe\">\n",
              "  <thead>\n",
              "    <tr style=\"text-align: right;\">\n",
              "      <th></th>\n",
              "      <th>Party</th>\n",
              "      <th>Handicapped-infants</th>\n",
              "      <th>Water-project-cost-sharing</th>\n",
              "      <th>Adoption-of-the-budget-resolution</th>\n",
              "      <th>Physician-fee-freeze</th>\n",
              "      <th>El-Salvador-aid</th>\n",
              "      <th>Religious-groups-in-schools</th>\n",
              "      <th>Anti-satellite-test-ban</th>\n",
              "      <th>Aid-to-nicaraguan-contras</th>\n",
              "      <th>MX-missile</th>\n",
              "      <th>Immigration</th>\n",
              "      <th>Synfuels-corporation-cutback</th>\n",
              "      <th>Education-spending</th>\n",
              "      <th>Superfund-right-to-sue</th>\n",
              "      <th>Crime</th>\n",
              "      <th>Duty-free-exports</th>\n",
              "      <th>Export-administration-act-south-africa</th>\n",
              "    </tr>\n",
              "  </thead>\n",
              "  <tbody>\n",
              "    <tr>\n",
              "      <th>0</th>\n",
              "      <td>republican</td>\n",
              "      <td>n</td>\n",
              "      <td>y</td>\n",
              "      <td>n</td>\n",
              "      <td>y</td>\n",
              "      <td>y</td>\n",
              "      <td>y</td>\n",
              "      <td>n</td>\n",
              "      <td>n</td>\n",
              "      <td>n</td>\n",
              "      <td>y</td>\n",
              "      <td>?</td>\n",
              "      <td>y</td>\n",
              "      <td>y</td>\n",
              "      <td>y</td>\n",
              "      <td>n</td>\n",
              "      <td>y</td>\n",
              "    </tr>\n",
              "    <tr>\n",
              "      <th>1</th>\n",
              "      <td>republican</td>\n",
              "      <td>n</td>\n",
              "      <td>y</td>\n",
              "      <td>n</td>\n",
              "      <td>y</td>\n",
              "      <td>y</td>\n",
              "      <td>y</td>\n",
              "      <td>n</td>\n",
              "      <td>n</td>\n",
              "      <td>n</td>\n",
              "      <td>n</td>\n",
              "      <td>n</td>\n",
              "      <td>y</td>\n",
              "      <td>y</td>\n",
              "      <td>y</td>\n",
              "      <td>n</td>\n",
              "      <td>?</td>\n",
              "    </tr>\n",
              "    <tr>\n",
              "      <th>2</th>\n",
              "      <td>democrat</td>\n",
              "      <td>?</td>\n",
              "      <td>y</td>\n",
              "      <td>y</td>\n",
              "      <td>?</td>\n",
              "      <td>y</td>\n",
              "      <td>y</td>\n",
              "      <td>n</td>\n",
              "      <td>n</td>\n",
              "      <td>n</td>\n",
              "      <td>n</td>\n",
              "      <td>y</td>\n",
              "      <td>n</td>\n",
              "      <td>y</td>\n",
              "      <td>y</td>\n",
              "      <td>n</td>\n",
              "      <td>n</td>\n",
              "    </tr>\n",
              "    <tr>\n",
              "      <th>3</th>\n",
              "      <td>democrat</td>\n",
              "      <td>n</td>\n",
              "      <td>y</td>\n",
              "      <td>y</td>\n",
              "      <td>n</td>\n",
              "      <td>?</td>\n",
              "      <td>y</td>\n",
              "      <td>n</td>\n",
              "      <td>n</td>\n",
              "      <td>n</td>\n",
              "      <td>n</td>\n",
              "      <td>y</td>\n",
              "      <td>n</td>\n",
              "      <td>y</td>\n",
              "      <td>n</td>\n",
              "      <td>n</td>\n",
              "      <td>y</td>\n",
              "    </tr>\n",
              "    <tr>\n",
              "      <th>4</th>\n",
              "      <td>democrat</td>\n",
              "      <td>y</td>\n",
              "      <td>y</td>\n",
              "      <td>y</td>\n",
              "      <td>n</td>\n",
              "      <td>y</td>\n",
              "      <td>y</td>\n",
              "      <td>n</td>\n",
              "      <td>n</td>\n",
              "      <td>n</td>\n",
              "      <td>n</td>\n",
              "      <td>y</td>\n",
              "      <td>?</td>\n",
              "      <td>y</td>\n",
              "      <td>y</td>\n",
              "      <td>y</td>\n",
              "      <td>y</td>\n",
              "    </tr>\n",
              "  </tbody>\n",
              "</table>\n",
              "</div>"
            ],
            "text/plain": [
              "        Party  ... Export-administration-act-south-africa\n",
              "0  republican  ...                                      y\n",
              "1  republican  ...                                      ?\n",
              "2    democrat  ...                                      n\n",
              "3    democrat  ...                                      y\n",
              "4    democrat  ...                                      y\n",
              "\n",
              "[5 rows x 17 columns]"
            ]
          },
          "metadata": {
            "tags": []
          },
          "execution_count": 105
        }
      ]
    },
    {
      "cell_type": "code",
      "metadata": {
        "id": "4GD3lKkSllRP",
        "colab_type": "code",
        "colab": {
          "base_uri": "https://localhost:8080/",
          "height": 238
        },
        "outputId": "0d4323a9-6eb0-4761-d92c-a491213e7c29"
      },
      "source": [
        "np.NaN\n",
        "poll_abs_data=poll_abs_data.replace(\"?\", np.NaN)\n",
        "poll_abs_data.head()"
      ],
      "execution_count": 106,
      "outputs": [
        {
          "output_type": "execute_result",
          "data": {
            "text/html": [
              "<div>\n",
              "<style scoped>\n",
              "    .dataframe tbody tr th:only-of-type {\n",
              "        vertical-align: middle;\n",
              "    }\n",
              "\n",
              "    .dataframe tbody tr th {\n",
              "        vertical-align: top;\n",
              "    }\n",
              "\n",
              "    .dataframe thead th {\n",
              "        text-align: right;\n",
              "    }\n",
              "</style>\n",
              "<table border=\"1\" class=\"dataframe\">\n",
              "  <thead>\n",
              "    <tr style=\"text-align: right;\">\n",
              "      <th></th>\n",
              "      <th>Party</th>\n",
              "      <th>Handicapped-infants</th>\n",
              "      <th>Water-project-cost-sharing</th>\n",
              "      <th>Adoption-of-the-budget-resolution</th>\n",
              "      <th>Physician-fee-freeze</th>\n",
              "      <th>El-Salvador-aid</th>\n",
              "      <th>Religious-groups-in-schools</th>\n",
              "      <th>Anti-satellite-test-ban</th>\n",
              "      <th>Aid-to-nicaraguan-contras</th>\n",
              "      <th>MX-missile</th>\n",
              "      <th>Immigration</th>\n",
              "      <th>Synfuels-corporation-cutback</th>\n",
              "      <th>Education-spending</th>\n",
              "      <th>Superfund-right-to-sue</th>\n",
              "      <th>Crime</th>\n",
              "      <th>Duty-free-exports</th>\n",
              "      <th>Export-administration-act-south-africa</th>\n",
              "    </tr>\n",
              "  </thead>\n",
              "  <tbody>\n",
              "    <tr>\n",
              "      <th>0</th>\n",
              "      <td>republican</td>\n",
              "      <td>n</td>\n",
              "      <td>y</td>\n",
              "      <td>n</td>\n",
              "      <td>y</td>\n",
              "      <td>y</td>\n",
              "      <td>y</td>\n",
              "      <td>n</td>\n",
              "      <td>n</td>\n",
              "      <td>n</td>\n",
              "      <td>y</td>\n",
              "      <td>NaN</td>\n",
              "      <td>y</td>\n",
              "      <td>y</td>\n",
              "      <td>y</td>\n",
              "      <td>n</td>\n",
              "      <td>y</td>\n",
              "    </tr>\n",
              "    <tr>\n",
              "      <th>1</th>\n",
              "      <td>republican</td>\n",
              "      <td>n</td>\n",
              "      <td>y</td>\n",
              "      <td>n</td>\n",
              "      <td>y</td>\n",
              "      <td>y</td>\n",
              "      <td>y</td>\n",
              "      <td>n</td>\n",
              "      <td>n</td>\n",
              "      <td>n</td>\n",
              "      <td>n</td>\n",
              "      <td>n</td>\n",
              "      <td>y</td>\n",
              "      <td>y</td>\n",
              "      <td>y</td>\n",
              "      <td>n</td>\n",
              "      <td>NaN</td>\n",
              "    </tr>\n",
              "    <tr>\n",
              "      <th>2</th>\n",
              "      <td>democrat</td>\n",
              "      <td>NaN</td>\n",
              "      <td>y</td>\n",
              "      <td>y</td>\n",
              "      <td>NaN</td>\n",
              "      <td>y</td>\n",
              "      <td>y</td>\n",
              "      <td>n</td>\n",
              "      <td>n</td>\n",
              "      <td>n</td>\n",
              "      <td>n</td>\n",
              "      <td>y</td>\n",
              "      <td>n</td>\n",
              "      <td>y</td>\n",
              "      <td>y</td>\n",
              "      <td>n</td>\n",
              "      <td>n</td>\n",
              "    </tr>\n",
              "    <tr>\n",
              "      <th>3</th>\n",
              "      <td>democrat</td>\n",
              "      <td>n</td>\n",
              "      <td>y</td>\n",
              "      <td>y</td>\n",
              "      <td>n</td>\n",
              "      <td>NaN</td>\n",
              "      <td>y</td>\n",
              "      <td>n</td>\n",
              "      <td>n</td>\n",
              "      <td>n</td>\n",
              "      <td>n</td>\n",
              "      <td>y</td>\n",
              "      <td>n</td>\n",
              "      <td>y</td>\n",
              "      <td>n</td>\n",
              "      <td>n</td>\n",
              "      <td>y</td>\n",
              "    </tr>\n",
              "    <tr>\n",
              "      <th>4</th>\n",
              "      <td>democrat</td>\n",
              "      <td>y</td>\n",
              "      <td>y</td>\n",
              "      <td>y</td>\n",
              "      <td>n</td>\n",
              "      <td>y</td>\n",
              "      <td>y</td>\n",
              "      <td>n</td>\n",
              "      <td>n</td>\n",
              "      <td>n</td>\n",
              "      <td>n</td>\n",
              "      <td>y</td>\n",
              "      <td>NaN</td>\n",
              "      <td>y</td>\n",
              "      <td>y</td>\n",
              "      <td>y</td>\n",
              "      <td>y</td>\n",
              "    </tr>\n",
              "  </tbody>\n",
              "</table>\n",
              "</div>"
            ],
            "text/plain": [
              "        Party  ... Export-administration-act-south-africa\n",
              "0  republican  ...                                      y\n",
              "1  republican  ...                                    NaN\n",
              "2    democrat  ...                                      n\n",
              "3    democrat  ...                                      y\n",
              "4    democrat  ...                                      y\n",
              "\n",
              "[5 rows x 17 columns]"
            ]
          },
          "metadata": {
            "tags": []
          },
          "execution_count": 106
        }
      ]
    },
    {
      "cell_type": "code",
      "metadata": {
        "id": "D6v8XuUwo6FP",
        "colab_type": "code",
        "colab": {
          "base_uri": "https://localhost:8080/",
          "height": 238
        },
        "outputId": "2ccb24e7-794d-4c42-84c9-0a21e0263c4d"
      },
      "source": [
        "poll_abs_data=poll_abs_data.replace({'n':0, 'y':1})\n",
        "poll_abs_data.head()"
      ],
      "execution_count": 107,
      "outputs": [
        {
          "output_type": "execute_result",
          "data": {
            "text/html": [
              "<div>\n",
              "<style scoped>\n",
              "    .dataframe tbody tr th:only-of-type {\n",
              "        vertical-align: middle;\n",
              "    }\n",
              "\n",
              "    .dataframe tbody tr th {\n",
              "        vertical-align: top;\n",
              "    }\n",
              "\n",
              "    .dataframe thead th {\n",
              "        text-align: right;\n",
              "    }\n",
              "</style>\n",
              "<table border=\"1\" class=\"dataframe\">\n",
              "  <thead>\n",
              "    <tr style=\"text-align: right;\">\n",
              "      <th></th>\n",
              "      <th>Party</th>\n",
              "      <th>Handicapped-infants</th>\n",
              "      <th>Water-project-cost-sharing</th>\n",
              "      <th>Adoption-of-the-budget-resolution</th>\n",
              "      <th>Physician-fee-freeze</th>\n",
              "      <th>El-Salvador-aid</th>\n",
              "      <th>Religious-groups-in-schools</th>\n",
              "      <th>Anti-satellite-test-ban</th>\n",
              "      <th>Aid-to-nicaraguan-contras</th>\n",
              "      <th>MX-missile</th>\n",
              "      <th>Immigration</th>\n",
              "      <th>Synfuels-corporation-cutback</th>\n",
              "      <th>Education-spending</th>\n",
              "      <th>Superfund-right-to-sue</th>\n",
              "      <th>Crime</th>\n",
              "      <th>Duty-free-exports</th>\n",
              "      <th>Export-administration-act-south-africa</th>\n",
              "    </tr>\n",
              "  </thead>\n",
              "  <tbody>\n",
              "    <tr>\n",
              "      <th>0</th>\n",
              "      <td>republican</td>\n",
              "      <td>0.0</td>\n",
              "      <td>1.0</td>\n",
              "      <td>0.0</td>\n",
              "      <td>1.0</td>\n",
              "      <td>1.0</td>\n",
              "      <td>1.0</td>\n",
              "      <td>0.0</td>\n",
              "      <td>0.0</td>\n",
              "      <td>0.0</td>\n",
              "      <td>1.0</td>\n",
              "      <td>NaN</td>\n",
              "      <td>1.0</td>\n",
              "      <td>1.0</td>\n",
              "      <td>1.0</td>\n",
              "      <td>0.0</td>\n",
              "      <td>1.0</td>\n",
              "    </tr>\n",
              "    <tr>\n",
              "      <th>1</th>\n",
              "      <td>republican</td>\n",
              "      <td>0.0</td>\n",
              "      <td>1.0</td>\n",
              "      <td>0.0</td>\n",
              "      <td>1.0</td>\n",
              "      <td>1.0</td>\n",
              "      <td>1.0</td>\n",
              "      <td>0.0</td>\n",
              "      <td>0.0</td>\n",
              "      <td>0.0</td>\n",
              "      <td>0.0</td>\n",
              "      <td>0.0</td>\n",
              "      <td>1.0</td>\n",
              "      <td>1.0</td>\n",
              "      <td>1.0</td>\n",
              "      <td>0.0</td>\n",
              "      <td>NaN</td>\n",
              "    </tr>\n",
              "    <tr>\n",
              "      <th>2</th>\n",
              "      <td>democrat</td>\n",
              "      <td>NaN</td>\n",
              "      <td>1.0</td>\n",
              "      <td>1.0</td>\n",
              "      <td>NaN</td>\n",
              "      <td>1.0</td>\n",
              "      <td>1.0</td>\n",
              "      <td>0.0</td>\n",
              "      <td>0.0</td>\n",
              "      <td>0.0</td>\n",
              "      <td>0.0</td>\n",
              "      <td>1.0</td>\n",
              "      <td>0.0</td>\n",
              "      <td>1.0</td>\n",
              "      <td>1.0</td>\n",
              "      <td>0.0</td>\n",
              "      <td>0.0</td>\n",
              "    </tr>\n",
              "    <tr>\n",
              "      <th>3</th>\n",
              "      <td>democrat</td>\n",
              "      <td>0.0</td>\n",
              "      <td>1.0</td>\n",
              "      <td>1.0</td>\n",
              "      <td>0.0</td>\n",
              "      <td>NaN</td>\n",
              "      <td>1.0</td>\n",
              "      <td>0.0</td>\n",
              "      <td>0.0</td>\n",
              "      <td>0.0</td>\n",
              "      <td>0.0</td>\n",
              "      <td>1.0</td>\n",
              "      <td>0.0</td>\n",
              "      <td>1.0</td>\n",
              "      <td>0.0</td>\n",
              "      <td>0.0</td>\n",
              "      <td>1.0</td>\n",
              "    </tr>\n",
              "    <tr>\n",
              "      <th>4</th>\n",
              "      <td>democrat</td>\n",
              "      <td>1.0</td>\n",
              "      <td>1.0</td>\n",
              "      <td>1.0</td>\n",
              "      <td>0.0</td>\n",
              "      <td>1.0</td>\n",
              "      <td>1.0</td>\n",
              "      <td>0.0</td>\n",
              "      <td>0.0</td>\n",
              "      <td>0.0</td>\n",
              "      <td>0.0</td>\n",
              "      <td>1.0</td>\n",
              "      <td>NaN</td>\n",
              "      <td>1.0</td>\n",
              "      <td>1.0</td>\n",
              "      <td>1.0</td>\n",
              "      <td>1.0</td>\n",
              "    </tr>\n",
              "  </tbody>\n",
              "</table>\n",
              "</div>"
            ],
            "text/plain": [
              "        Party  ...  Export-administration-act-south-africa\n",
              "0  republican  ...                                     1.0\n",
              "1  republican  ...                                     NaN\n",
              "2    democrat  ...                                     0.0\n",
              "3    democrat  ...                                     1.0\n",
              "4    democrat  ...                                     1.0\n",
              "\n",
              "[5 rows x 17 columns]"
            ]
          },
          "metadata": {
            "tags": []
          },
          "execution_count": 107
        }
      ]
    },
    {
      "cell_type": "code",
      "metadata": {
        "id": "e7WlH0b1k66b",
        "colab_type": "code",
        "colab": {
          "base_uri": "https://localhost:8080/",
          "height": 323
        },
        "outputId": "7323b730-d005-4f5c-b08f-f29d57cad03f"
      },
      "source": [
        "poll_abs_data.isnull().sum()"
      ],
      "execution_count": 108,
      "outputs": [
        {
          "output_type": "execute_result",
          "data": {
            "text/plain": [
              "Party                                       0\n",
              "Handicapped-infants                        12\n",
              "Water-project-cost-sharing                 48\n",
              "Adoption-of-the-budget-resolution          11\n",
              "Physician-fee-freeze                       11\n",
              "El-Salvador-aid                            15\n",
              "Religious-groups-in-schools                11\n",
              "Anti-satellite-test-ban                    14\n",
              "Aid-to-nicaraguan-contras                  15\n",
              "MX-missile                                 22\n",
              "Immigration                                 7\n",
              "Synfuels-corporation-cutback               21\n",
              "Education-spending                         31\n",
              "Superfund-right-to-sue                     25\n",
              "Crime                                      17\n",
              "Duty-free-exports                          28\n",
              "Export-administration-act-south-africa    104\n",
              "dtype: int64"
            ]
          },
          "metadata": {
            "tags": []
          },
          "execution_count": 108
        }
      ]
    },
    {
      "cell_type": "code",
      "metadata": {
        "id": "O8zJsLAWlYa6",
        "colab_type": "code",
        "colab": {
          "base_uri": "https://localhost:8080/",
          "height": 306
        },
        "outputId": "f1b66d57-cd6c-4a5e-e128-e4a81656e537"
      },
      "source": [
        "mu = 0 # mean\n",
        "sigma = 0.01 # standard deviation\n",
        "\n",
        "sample = np.random.normal(mu, sigma, 1000)\n",
        "\n",
        "# Verify the mean of our sample\n",
        "abs(mu - np.mean(poll_abs_data)) < 0.01"
      ],
      "execution_count": 109,
      "outputs": [
        {
          "output_type": "execute_result",
          "data": {
            "text/plain": [
              "Handicapped-infants                       False\n",
              "Water-project-cost-sharing                False\n",
              "Adoption-of-the-budget-resolution         False\n",
              "Physician-fee-freeze                      False\n",
              "El-Salvador-aid                           False\n",
              "Religious-groups-in-schools               False\n",
              "Anti-satellite-test-ban                   False\n",
              "Aid-to-nicaraguan-contras                 False\n",
              "MX-missile                                False\n",
              "Immigration                               False\n",
              "Synfuels-corporation-cutback              False\n",
              "Education-spending                        False\n",
              "Superfund-right-to-sue                    False\n",
              "Crime                                     False\n",
              "Duty-free-exports                         False\n",
              "Export-administration-act-south-africa    False\n",
              "dtype: bool"
            ]
          },
          "metadata": {
            "tags": []
          },
          "execution_count": 109
        }
      ]
    },
    {
      "cell_type": "code",
      "metadata": {
        "id": "9ZgmLeUXxMOK",
        "colab_type": "code",
        "colab": {
          "base_uri": "https://localhost:8080/",
          "height": 306
        },
        "outputId": "d52f6335-26ce-4f19-c986-22df51d1db54"
      },
      "source": [
        "np.mean(poll_abs_data)"
      ],
      "execution_count": 121,
      "outputs": [
        {
          "output_type": "execute_result",
          "data": {
            "text/plain": [
              "Handicapped-infants                       0.442080\n",
              "Water-project-cost-sharing                0.503876\n",
              "Adoption-of-the-budget-resolution         0.596698\n",
              "Physician-fee-freeze                      0.417453\n",
              "El-Salvador-aid                           0.504762\n",
              "Religious-groups-in-schools               0.641509\n",
              "Anti-satellite-test-ban                   0.567696\n",
              "Aid-to-nicaraguan-contras                 0.576190\n",
              "MX-missile                                0.501211\n",
              "Immigration                               0.504673\n",
              "Synfuels-corporation-cutback              0.362319\n",
              "Education-spending                        0.423267\n",
              "Superfund-right-to-sue                    0.509756\n",
              "Crime                                     0.593301\n",
              "Duty-free-exports                         0.427518\n",
              "Export-administration-act-south-africa    0.812689\n",
              "dtype: float64"
            ]
          },
          "metadata": {
            "tags": []
          },
          "execution_count": 121
        }
      ]
    },
    {
      "cell_type": "code",
      "metadata": {
        "id": "BM74IC2qxUe1",
        "colab_type": "code",
        "colab": {
          "base_uri": "https://localhost:8080/",
          "height": 306
        },
        "outputId": "3772b574-59db-45fe-b852-c07304b5b9ab"
      },
      "source": [
        "abs(sigma - np.std(poll_abs_data, ddof=1)) < 0.01"
      ],
      "execution_count": 122,
      "outputs": [
        {
          "output_type": "execute_result",
          "data": {
            "text/plain": [
              "Handicapped-infants                       False\n",
              "Water-project-cost-sharing                False\n",
              "Adoption-of-the-budget-resolution         False\n",
              "Physician-fee-freeze                      False\n",
              "El-Salvador-aid                           False\n",
              "Religious-groups-in-schools               False\n",
              "Anti-satellite-test-ban                   False\n",
              "Aid-to-nicaraguan-contras                 False\n",
              "MX-missile                                False\n",
              "Immigration                               False\n",
              "Synfuels-corporation-cutback              False\n",
              "Education-spending                        False\n",
              "Superfund-right-to-sue                    False\n",
              "Crime                                     False\n",
              "Duty-free-exports                         False\n",
              "Export-administration-act-south-africa    False\n",
              "dtype: bool"
            ]
          },
          "metadata": {
            "tags": []
          },
          "execution_count": 122
        }
      ]
    },
    {
      "cell_type": "code",
      "metadata": {
        "id": "Q0lY4oPbnLuk",
        "colab_type": "code",
        "colab": {
          "base_uri": "https://localhost:8080/",
          "height": 348
        },
        "outputId": "01b569eb-c1f6-452d-ea6d-2b8d704ee8e7"
      },
      "source": [
        "poll_abs_data.describe()"
      ],
      "execution_count": 110,
      "outputs": [
        {
          "output_type": "execute_result",
          "data": {
            "text/html": [
              "<div>\n",
              "<style scoped>\n",
              "    .dataframe tbody tr th:only-of-type {\n",
              "        vertical-align: middle;\n",
              "    }\n",
              "\n",
              "    .dataframe tbody tr th {\n",
              "        vertical-align: top;\n",
              "    }\n",
              "\n",
              "    .dataframe thead th {\n",
              "        text-align: right;\n",
              "    }\n",
              "</style>\n",
              "<table border=\"1\" class=\"dataframe\">\n",
              "  <thead>\n",
              "    <tr style=\"text-align: right;\">\n",
              "      <th></th>\n",
              "      <th>Handicapped-infants</th>\n",
              "      <th>Water-project-cost-sharing</th>\n",
              "      <th>Adoption-of-the-budget-resolution</th>\n",
              "      <th>Physician-fee-freeze</th>\n",
              "      <th>El-Salvador-aid</th>\n",
              "      <th>Religious-groups-in-schools</th>\n",
              "      <th>Anti-satellite-test-ban</th>\n",
              "      <th>Aid-to-nicaraguan-contras</th>\n",
              "      <th>MX-missile</th>\n",
              "      <th>Immigration</th>\n",
              "      <th>Synfuels-corporation-cutback</th>\n",
              "      <th>Education-spending</th>\n",
              "      <th>Superfund-right-to-sue</th>\n",
              "      <th>Crime</th>\n",
              "      <th>Duty-free-exports</th>\n",
              "      <th>Export-administration-act-south-africa</th>\n",
              "    </tr>\n",
              "  </thead>\n",
              "  <tbody>\n",
              "    <tr>\n",
              "      <th>count</th>\n",
              "      <td>423.000000</td>\n",
              "      <td>387.000000</td>\n",
              "      <td>424.000000</td>\n",
              "      <td>424.000000</td>\n",
              "      <td>420.000000</td>\n",
              "      <td>424.000000</td>\n",
              "      <td>421.000000</td>\n",
              "      <td>420.00000</td>\n",
              "      <td>413.000000</td>\n",
              "      <td>428.000000</td>\n",
              "      <td>414.000000</td>\n",
              "      <td>404.000000</td>\n",
              "      <td>410.000000</td>\n",
              "      <td>418.000000</td>\n",
              "      <td>407.000000</td>\n",
              "      <td>331.000000</td>\n",
              "    </tr>\n",
              "    <tr>\n",
              "      <th>mean</th>\n",
              "      <td>0.442080</td>\n",
              "      <td>0.503876</td>\n",
              "      <td>0.596698</td>\n",
              "      <td>0.417453</td>\n",
              "      <td>0.504762</td>\n",
              "      <td>0.641509</td>\n",
              "      <td>0.567696</td>\n",
              "      <td>0.57619</td>\n",
              "      <td>0.501211</td>\n",
              "      <td>0.504673</td>\n",
              "      <td>0.362319</td>\n",
              "      <td>0.423267</td>\n",
              "      <td>0.509756</td>\n",
              "      <td>0.593301</td>\n",
              "      <td>0.427518</td>\n",
              "      <td>0.812689</td>\n",
              "    </tr>\n",
              "    <tr>\n",
              "      <th>std</th>\n",
              "      <td>0.497222</td>\n",
              "      <td>0.500632</td>\n",
              "      <td>0.491140</td>\n",
              "      <td>0.493721</td>\n",
              "      <td>0.500574</td>\n",
              "      <td>0.480124</td>\n",
              "      <td>0.495985</td>\n",
              "      <td>0.49475</td>\n",
              "      <td>0.500605</td>\n",
              "      <td>0.500563</td>\n",
              "      <td>0.481252</td>\n",
              "      <td>0.494690</td>\n",
              "      <td>0.500516</td>\n",
              "      <td>0.491806</td>\n",
              "      <td>0.495327</td>\n",
              "      <td>0.390752</td>\n",
              "    </tr>\n",
              "    <tr>\n",
              "      <th>min</th>\n",
              "      <td>0.000000</td>\n",
              "      <td>0.000000</td>\n",
              "      <td>0.000000</td>\n",
              "      <td>0.000000</td>\n",
              "      <td>0.000000</td>\n",
              "      <td>0.000000</td>\n",
              "      <td>0.000000</td>\n",
              "      <td>0.00000</td>\n",
              "      <td>0.000000</td>\n",
              "      <td>0.000000</td>\n",
              "      <td>0.000000</td>\n",
              "      <td>0.000000</td>\n",
              "      <td>0.000000</td>\n",
              "      <td>0.000000</td>\n",
              "      <td>0.000000</td>\n",
              "      <td>0.000000</td>\n",
              "    </tr>\n",
              "    <tr>\n",
              "      <th>25%</th>\n",
              "      <td>0.000000</td>\n",
              "      <td>0.000000</td>\n",
              "      <td>0.000000</td>\n",
              "      <td>0.000000</td>\n",
              "      <td>0.000000</td>\n",
              "      <td>0.000000</td>\n",
              "      <td>0.000000</td>\n",
              "      <td>0.00000</td>\n",
              "      <td>0.000000</td>\n",
              "      <td>0.000000</td>\n",
              "      <td>0.000000</td>\n",
              "      <td>0.000000</td>\n",
              "      <td>0.000000</td>\n",
              "      <td>0.000000</td>\n",
              "      <td>0.000000</td>\n",
              "      <td>1.000000</td>\n",
              "    </tr>\n",
              "    <tr>\n",
              "      <th>50%</th>\n",
              "      <td>0.000000</td>\n",
              "      <td>1.000000</td>\n",
              "      <td>1.000000</td>\n",
              "      <td>0.000000</td>\n",
              "      <td>1.000000</td>\n",
              "      <td>1.000000</td>\n",
              "      <td>1.000000</td>\n",
              "      <td>1.00000</td>\n",
              "      <td>1.000000</td>\n",
              "      <td>1.000000</td>\n",
              "      <td>0.000000</td>\n",
              "      <td>0.000000</td>\n",
              "      <td>1.000000</td>\n",
              "      <td>1.000000</td>\n",
              "      <td>0.000000</td>\n",
              "      <td>1.000000</td>\n",
              "    </tr>\n",
              "    <tr>\n",
              "      <th>75%</th>\n",
              "      <td>1.000000</td>\n",
              "      <td>1.000000</td>\n",
              "      <td>1.000000</td>\n",
              "      <td>1.000000</td>\n",
              "      <td>1.000000</td>\n",
              "      <td>1.000000</td>\n",
              "      <td>1.000000</td>\n",
              "      <td>1.00000</td>\n",
              "      <td>1.000000</td>\n",
              "      <td>1.000000</td>\n",
              "      <td>1.000000</td>\n",
              "      <td>1.000000</td>\n",
              "      <td>1.000000</td>\n",
              "      <td>1.000000</td>\n",
              "      <td>1.000000</td>\n",
              "      <td>1.000000</td>\n",
              "    </tr>\n",
              "    <tr>\n",
              "      <th>max</th>\n",
              "      <td>1.000000</td>\n",
              "      <td>1.000000</td>\n",
              "      <td>1.000000</td>\n",
              "      <td>1.000000</td>\n",
              "      <td>1.000000</td>\n",
              "      <td>1.000000</td>\n",
              "      <td>1.000000</td>\n",
              "      <td>1.00000</td>\n",
              "      <td>1.000000</td>\n",
              "      <td>1.000000</td>\n",
              "      <td>1.000000</td>\n",
              "      <td>1.000000</td>\n",
              "      <td>1.000000</td>\n",
              "      <td>1.000000</td>\n",
              "      <td>1.000000</td>\n",
              "      <td>1.000000</td>\n",
              "    </tr>\n",
              "  </tbody>\n",
              "</table>\n",
              "</div>"
            ],
            "text/plain": [
              "       Handicapped-infants  ...  Export-administration-act-south-africa\n",
              "count           423.000000  ...                              331.000000\n",
              "mean              0.442080  ...                                0.812689\n",
              "std               0.497222  ...                                0.390752\n",
              "min               0.000000  ...                                0.000000\n",
              "25%               0.000000  ...                                1.000000\n",
              "50%               0.000000  ...                                1.000000\n",
              "75%               1.000000  ...                                1.000000\n",
              "max               1.000000  ...                                1.000000\n",
              "\n",
              "[8 rows x 16 columns]"
            ]
          },
          "metadata": {
            "tags": []
          },
          "execution_count": 110
        }
      ]
    },
    {
      "cell_type": "code",
      "metadata": {
        "id": "5lsBIO7PnmGh",
        "colab_type": "code",
        "colab": {
          "base_uri": "https://localhost:8080/",
          "height": 255
        },
        "outputId": "48d77eca-f882-4d69-e62f-8071b137c820"
      },
      "source": [
        "dems=poll_abs_data[poll_abs_data.Party==\"democrat\"]\n",
        "print(dems.shape)\n",
        "dems.head()"
      ],
      "execution_count": 111,
      "outputs": [
        {
          "output_type": "stream",
          "text": [
            "(267, 17)\n"
          ],
          "name": "stdout"
        },
        {
          "output_type": "execute_result",
          "data": {
            "text/html": [
              "<div>\n",
              "<style scoped>\n",
              "    .dataframe tbody tr th:only-of-type {\n",
              "        vertical-align: middle;\n",
              "    }\n",
              "\n",
              "    .dataframe tbody tr th {\n",
              "        vertical-align: top;\n",
              "    }\n",
              "\n",
              "    .dataframe thead th {\n",
              "        text-align: right;\n",
              "    }\n",
              "</style>\n",
              "<table border=\"1\" class=\"dataframe\">\n",
              "  <thead>\n",
              "    <tr style=\"text-align: right;\">\n",
              "      <th></th>\n",
              "      <th>Party</th>\n",
              "      <th>Handicapped-infants</th>\n",
              "      <th>Water-project-cost-sharing</th>\n",
              "      <th>Adoption-of-the-budget-resolution</th>\n",
              "      <th>Physician-fee-freeze</th>\n",
              "      <th>El-Salvador-aid</th>\n",
              "      <th>Religious-groups-in-schools</th>\n",
              "      <th>Anti-satellite-test-ban</th>\n",
              "      <th>Aid-to-nicaraguan-contras</th>\n",
              "      <th>MX-missile</th>\n",
              "      <th>Immigration</th>\n",
              "      <th>Synfuels-corporation-cutback</th>\n",
              "      <th>Education-spending</th>\n",
              "      <th>Superfund-right-to-sue</th>\n",
              "      <th>Crime</th>\n",
              "      <th>Duty-free-exports</th>\n",
              "      <th>Export-administration-act-south-africa</th>\n",
              "    </tr>\n",
              "  </thead>\n",
              "  <tbody>\n",
              "    <tr>\n",
              "      <th>2</th>\n",
              "      <td>democrat</td>\n",
              "      <td>NaN</td>\n",
              "      <td>1.0</td>\n",
              "      <td>1.0</td>\n",
              "      <td>NaN</td>\n",
              "      <td>1.0</td>\n",
              "      <td>1.0</td>\n",
              "      <td>0.0</td>\n",
              "      <td>0.0</td>\n",
              "      <td>0.0</td>\n",
              "      <td>0.0</td>\n",
              "      <td>1.0</td>\n",
              "      <td>0.0</td>\n",
              "      <td>1.0</td>\n",
              "      <td>1.0</td>\n",
              "      <td>0.0</td>\n",
              "      <td>0.0</td>\n",
              "    </tr>\n",
              "    <tr>\n",
              "      <th>3</th>\n",
              "      <td>democrat</td>\n",
              "      <td>0.0</td>\n",
              "      <td>1.0</td>\n",
              "      <td>1.0</td>\n",
              "      <td>0.0</td>\n",
              "      <td>NaN</td>\n",
              "      <td>1.0</td>\n",
              "      <td>0.0</td>\n",
              "      <td>0.0</td>\n",
              "      <td>0.0</td>\n",
              "      <td>0.0</td>\n",
              "      <td>1.0</td>\n",
              "      <td>0.0</td>\n",
              "      <td>1.0</td>\n",
              "      <td>0.0</td>\n",
              "      <td>0.0</td>\n",
              "      <td>1.0</td>\n",
              "    </tr>\n",
              "    <tr>\n",
              "      <th>4</th>\n",
              "      <td>democrat</td>\n",
              "      <td>1.0</td>\n",
              "      <td>1.0</td>\n",
              "      <td>1.0</td>\n",
              "      <td>0.0</td>\n",
              "      <td>1.0</td>\n",
              "      <td>1.0</td>\n",
              "      <td>0.0</td>\n",
              "      <td>0.0</td>\n",
              "      <td>0.0</td>\n",
              "      <td>0.0</td>\n",
              "      <td>1.0</td>\n",
              "      <td>NaN</td>\n",
              "      <td>1.0</td>\n",
              "      <td>1.0</td>\n",
              "      <td>1.0</td>\n",
              "      <td>1.0</td>\n",
              "    </tr>\n",
              "    <tr>\n",
              "      <th>5</th>\n",
              "      <td>democrat</td>\n",
              "      <td>0.0</td>\n",
              "      <td>1.0</td>\n",
              "      <td>1.0</td>\n",
              "      <td>0.0</td>\n",
              "      <td>1.0</td>\n",
              "      <td>1.0</td>\n",
              "      <td>0.0</td>\n",
              "      <td>0.0</td>\n",
              "      <td>0.0</td>\n",
              "      <td>0.0</td>\n",
              "      <td>0.0</td>\n",
              "      <td>0.0</td>\n",
              "      <td>1.0</td>\n",
              "      <td>1.0</td>\n",
              "      <td>1.0</td>\n",
              "      <td>1.0</td>\n",
              "    </tr>\n",
              "    <tr>\n",
              "      <th>6</th>\n",
              "      <td>democrat</td>\n",
              "      <td>0.0</td>\n",
              "      <td>1.0</td>\n",
              "      <td>0.0</td>\n",
              "      <td>1.0</td>\n",
              "      <td>1.0</td>\n",
              "      <td>1.0</td>\n",
              "      <td>0.0</td>\n",
              "      <td>0.0</td>\n",
              "      <td>0.0</td>\n",
              "      <td>0.0</td>\n",
              "      <td>0.0</td>\n",
              "      <td>0.0</td>\n",
              "      <td>NaN</td>\n",
              "      <td>1.0</td>\n",
              "      <td>1.0</td>\n",
              "      <td>1.0</td>\n",
              "    </tr>\n",
              "  </tbody>\n",
              "</table>\n",
              "</div>"
            ],
            "text/plain": [
              "      Party  ...  Export-administration-act-south-africa\n",
              "2  democrat  ...                                     0.0\n",
              "3  democrat  ...                                     1.0\n",
              "4  democrat  ...                                     1.0\n",
              "5  democrat  ...                                     1.0\n",
              "6  democrat  ...                                     1.0\n",
              "\n",
              "[5 rows x 17 columns]"
            ]
          },
          "metadata": {
            "tags": []
          },
          "execution_count": 111
        }
      ]
    },
    {
      "cell_type": "code",
      "metadata": {
        "id": "G6P4NxnnpssZ",
        "colab_type": "code",
        "colab": {
          "base_uri": "https://localhost:8080/",
          "height": 255
        },
        "outputId": "805ed331-49a3-4171-b8c6-7e11c7424567"
      },
      "source": [
        "reps=poll_abs_data[poll_abs_data.Party==\"republican\"]\n",
        "print(reps.shape)\n",
        "reps.head()"
      ],
      "execution_count": 112,
      "outputs": [
        {
          "output_type": "stream",
          "text": [
            "(168, 17)\n"
          ],
          "name": "stdout"
        },
        {
          "output_type": "execute_result",
          "data": {
            "text/html": [
              "<div>\n",
              "<style scoped>\n",
              "    .dataframe tbody tr th:only-of-type {\n",
              "        vertical-align: middle;\n",
              "    }\n",
              "\n",
              "    .dataframe tbody tr th {\n",
              "        vertical-align: top;\n",
              "    }\n",
              "\n",
              "    .dataframe thead th {\n",
              "        text-align: right;\n",
              "    }\n",
              "</style>\n",
              "<table border=\"1\" class=\"dataframe\">\n",
              "  <thead>\n",
              "    <tr style=\"text-align: right;\">\n",
              "      <th></th>\n",
              "      <th>Party</th>\n",
              "      <th>Handicapped-infants</th>\n",
              "      <th>Water-project-cost-sharing</th>\n",
              "      <th>Adoption-of-the-budget-resolution</th>\n",
              "      <th>Physician-fee-freeze</th>\n",
              "      <th>El-Salvador-aid</th>\n",
              "      <th>Religious-groups-in-schools</th>\n",
              "      <th>Anti-satellite-test-ban</th>\n",
              "      <th>Aid-to-nicaraguan-contras</th>\n",
              "      <th>MX-missile</th>\n",
              "      <th>Immigration</th>\n",
              "      <th>Synfuels-corporation-cutback</th>\n",
              "      <th>Education-spending</th>\n",
              "      <th>Superfund-right-to-sue</th>\n",
              "      <th>Crime</th>\n",
              "      <th>Duty-free-exports</th>\n",
              "      <th>Export-administration-act-south-africa</th>\n",
              "    </tr>\n",
              "  </thead>\n",
              "  <tbody>\n",
              "    <tr>\n",
              "      <th>0</th>\n",
              "      <td>republican</td>\n",
              "      <td>0.0</td>\n",
              "      <td>1.0</td>\n",
              "      <td>0.0</td>\n",
              "      <td>1.0</td>\n",
              "      <td>1.0</td>\n",
              "      <td>1.0</td>\n",
              "      <td>0.0</td>\n",
              "      <td>0.0</td>\n",
              "      <td>0.0</td>\n",
              "      <td>1.0</td>\n",
              "      <td>NaN</td>\n",
              "      <td>1.0</td>\n",
              "      <td>1.0</td>\n",
              "      <td>1.0</td>\n",
              "      <td>0.0</td>\n",
              "      <td>1.0</td>\n",
              "    </tr>\n",
              "    <tr>\n",
              "      <th>1</th>\n",
              "      <td>republican</td>\n",
              "      <td>0.0</td>\n",
              "      <td>1.0</td>\n",
              "      <td>0.0</td>\n",
              "      <td>1.0</td>\n",
              "      <td>1.0</td>\n",
              "      <td>1.0</td>\n",
              "      <td>0.0</td>\n",
              "      <td>0.0</td>\n",
              "      <td>0.0</td>\n",
              "      <td>0.0</td>\n",
              "      <td>0.0</td>\n",
              "      <td>1.0</td>\n",
              "      <td>1.0</td>\n",
              "      <td>1.0</td>\n",
              "      <td>0.0</td>\n",
              "      <td>NaN</td>\n",
              "    </tr>\n",
              "    <tr>\n",
              "      <th>7</th>\n",
              "      <td>republican</td>\n",
              "      <td>0.0</td>\n",
              "      <td>1.0</td>\n",
              "      <td>0.0</td>\n",
              "      <td>1.0</td>\n",
              "      <td>1.0</td>\n",
              "      <td>1.0</td>\n",
              "      <td>0.0</td>\n",
              "      <td>0.0</td>\n",
              "      <td>0.0</td>\n",
              "      <td>0.0</td>\n",
              "      <td>0.0</td>\n",
              "      <td>0.0</td>\n",
              "      <td>1.0</td>\n",
              "      <td>1.0</td>\n",
              "      <td>NaN</td>\n",
              "      <td>1.0</td>\n",
              "    </tr>\n",
              "    <tr>\n",
              "      <th>8</th>\n",
              "      <td>republican</td>\n",
              "      <td>0.0</td>\n",
              "      <td>1.0</td>\n",
              "      <td>0.0</td>\n",
              "      <td>1.0</td>\n",
              "      <td>1.0</td>\n",
              "      <td>1.0</td>\n",
              "      <td>0.0</td>\n",
              "      <td>0.0</td>\n",
              "      <td>0.0</td>\n",
              "      <td>0.0</td>\n",
              "      <td>0.0</td>\n",
              "      <td>1.0</td>\n",
              "      <td>1.0</td>\n",
              "      <td>1.0</td>\n",
              "      <td>0.0</td>\n",
              "      <td>1.0</td>\n",
              "    </tr>\n",
              "    <tr>\n",
              "      <th>10</th>\n",
              "      <td>republican</td>\n",
              "      <td>0.0</td>\n",
              "      <td>1.0</td>\n",
              "      <td>0.0</td>\n",
              "      <td>1.0</td>\n",
              "      <td>1.0</td>\n",
              "      <td>0.0</td>\n",
              "      <td>0.0</td>\n",
              "      <td>0.0</td>\n",
              "      <td>0.0</td>\n",
              "      <td>0.0</td>\n",
              "      <td>NaN</td>\n",
              "      <td>NaN</td>\n",
              "      <td>1.0</td>\n",
              "      <td>1.0</td>\n",
              "      <td>0.0</td>\n",
              "      <td>0.0</td>\n",
              "    </tr>\n",
              "  </tbody>\n",
              "</table>\n",
              "</div>"
            ],
            "text/plain": [
              "         Party  ...  Export-administration-act-south-africa\n",
              "0   republican  ...                                     1.0\n",
              "1   republican  ...                                     NaN\n",
              "7   republican  ...                                     1.0\n",
              "8   republican  ...                                     1.0\n",
              "10  republican  ...                                     0.0\n",
              "\n",
              "[5 rows x 17 columns]"
            ]
          },
          "metadata": {
            "tags": []
          },
          "execution_count": 112
        }
      ]
    },
    {
      "cell_type": "code",
      "metadata": {
        "id": "YwVpxmIHomGB",
        "colab_type": "code",
        "colab": {
          "base_uri": "https://localhost:8080/",
          "height": 34
        },
        "outputId": "a16aaea1-810c-486c-ff38-4f70f4b6080f"
      },
      "source": [
        "from scipy.stats import ttest_1samp\n",
        "from scipy.stats import ttest_ind\n",
        "dems['Duty-free-exports'].mean()"
      ],
      "execution_count": 113,
      "outputs": [
        {
          "output_type": "execute_result",
          "data": {
            "text/plain": [
              "0.6374501992031872"
            ]
          },
          "metadata": {
            "tags": []
          },
          "execution_count": 113
        }
      ]
    },
    {
      "cell_type": "markdown",
      "metadata": {
        "id": "G9KukxWxsWZU",
        "colab_type": "text"
      },
      "source": [
        "***The Column 'Duty-free-exports' is up for testing***"
      ]
    },
    {
      "cell_type": "code",
      "metadata": {
        "id": "gnvoDjo9p2GO",
        "colab_type": "code",
        "colab": {
          "base_uri": "https://localhost:8080/",
          "height": 34
        },
        "outputId": "9f9a5b16-3b83-439c-9970-11de747a0f7b"
      },
      "source": [
        "reps['Duty-free-exports'].mean()"
      ],
      "execution_count": 114,
      "outputs": [
        {
          "output_type": "execute_result",
          "data": {
            "text/plain": [
              "0.08974358974358974"
            ]
          },
          "metadata": {
            "tags": []
          },
          "execution_count": 114
        }
      ]
    },
    {
      "cell_type": "code",
      "metadata": {
        "id": "tHO-M-0XrxR5",
        "colab_type": "code",
        "colab": {
          "base_uri": "https://localhost:8080/",
          "height": 34
        },
        "outputId": "7076c896-44d9-4f37-ee96-e72b6992ff3e"
      },
      "source": [
        "ttest_1samp(dems['Duty-free-exports'], 0.01, nan_policy='omit')"
      ],
      "execution_count": 115,
      "outputs": [
        {
          "output_type": "execute_result",
          "data": {
            "text/plain": [
              "Ttest_1sampResult(statistic=20.636797366916866, pvalue=6.468916914264755e-56)"
            ]
          },
          "metadata": {
            "tags": []
          },
          "execution_count": 115
        }
      ]
    },
    {
      "cell_type": "code",
      "metadata": {
        "id": "O-IdKlyor-iY",
        "colab_type": "code",
        "colab": {
          "base_uri": "https://localhost:8080/",
          "height": 34
        },
        "outputId": "336d41a9-fec2-4593-fd8a-16a7e86dc923"
      },
      "source": [
        "ttest_1samp(reps['Duty-free-exports'],0.01,nan_policy='omit')"
      ],
      "execution_count": 116,
      "outputs": [
        {
          "output_type": "execute_result",
          "data": {
            "text/plain": [
              "Ttest_1sampResult(statistic=3.4735858694951736, pvalue=0.0006659256527530465)"
            ]
          },
          "metadata": {
            "tags": []
          },
          "execution_count": 116
        }
      ]
    },
    {
      "cell_type": "code",
      "metadata": {
        "id": "Mwl7oBe7q_s1",
        "colab_type": "code",
        "colab": {
          "base_uri": "https://localhost:8080/",
          "height": 34
        },
        "outputId": "1d31f73a-71ba-401c-ad03-2042670bf3c6"
      },
      "source": [
        "#Running a Ttest with 2 samps\n",
        "ttest_ind(dems['Duty-free-exports'], reps['Duty-free-exports'],\n",
        "          nan_policy='omit')"
      ],
      "execution_count": 117,
      "outputs": [
        {
          "output_type": "execute_result",
          "data": {
            "text/plain": [
              "Ttest_indResult(statistic=12.853146132542978, pvalue=5.997697174347365e-32)"
            ]
          },
          "metadata": {
            "tags": []
          },
          "execution_count": 117
        }
      ]
    },
    {
      "cell_type": "markdown",
      "metadata": {
        "id": "OWvF01Hj0Xr3",
        "colab_type": "text"
      },
      "source": [
        "***\"Immigration is the next column of data I am testing***"
      ]
    },
    {
      "cell_type": "code",
      "metadata": {
        "id": "9HEMIAAIuGdp",
        "colab_type": "code",
        "colab": {
          "base_uri": "https://localhost:8080/",
          "height": 34
        },
        "outputId": "c63b4b71-cc55-4c04-bd1d-14fb3deb83ac"
      },
      "source": [
        "reps['Immigration'].mean()"
      ],
      "execution_count": 118,
      "outputs": [
        {
          "output_type": "execute_result",
          "data": {
            "text/plain": [
              "0.5575757575757576"
            ]
          },
          "metadata": {
            "tags": []
          },
          "execution_count": 118
        }
      ]
    },
    {
      "cell_type": "code",
      "metadata": {
        "id": "tBDqIQFpuuDI",
        "colab_type": "code",
        "colab": {
          "base_uri": "https://localhost:8080/",
          "height": 34
        },
        "outputId": "d49aa784-c925-4784-e84b-9884e22a11e3"
      },
      "source": [
        "dems['Immigration'].mean()\n"
      ],
      "execution_count": 119,
      "outputs": [
        {
          "output_type": "execute_result",
          "data": {
            "text/plain": [
              "0.4714828897338403"
            ]
          },
          "metadata": {
            "tags": []
          },
          "execution_count": 119
        }
      ]
    },
    {
      "cell_type": "code",
      "metadata": {
        "id": "Gl588HaIzIFm",
        "colab_type": "code",
        "colab": {
          "base_uri": "https://localhost:8080/",
          "height": 34
        },
        "outputId": "272729ff-80f4-4a18-ef9f-bffd26c6c571"
      },
      "source": [
        "ttest_1samp(dems['Immigration'], 0.01, nan_policy='omit')"
      ],
      "execution_count": 124,
      "outputs": [
        {
          "output_type": "execute_result",
          "data": {
            "text/plain": [
              "Ttest_1sampResult(statistic=14.963864084775844, pvalue=5.206147515096551e-37)"
            ]
          },
          "metadata": {
            "tags": []
          },
          "execution_count": 124
        }
      ]
    },
    {
      "cell_type": "code",
      "metadata": {
        "id": "0B6kNbu4zQua",
        "colab_type": "code",
        "colab": {
          "base_uri": "https://localhost:8080/",
          "height": 34
        },
        "outputId": "11439f63-1a4a-4eb5-e1da-47f99461c1dd"
      },
      "source": [
        "ttest_1samp(reps['Immigration'], 0.01, nan_policy='omit')"
      ],
      "execution_count": 125,
      "outputs": [
        {
          "output_type": "execute_result",
          "data": {
            "text/plain": [
              "Ttest_1sampResult(statistic=14.118700875553005, pvalue=3.9248769158651534e-30)"
            ]
          },
          "metadata": {
            "tags": []
          },
          "execution_count": 125
        }
      ]
    },
    {
      "cell_type": "code",
      "metadata": {
        "id": "6UjbCBMCuzkY",
        "colab_type": "code",
        "colab": {
          "base_uri": "https://localhost:8080/",
          "height": 34
        },
        "outputId": "f926bd2f-b38d-4401-c54d-3d9e8d3c150c"
      },
      "source": [
        "ttest_ind(dems['Immigration'], reps['Immigration'],\n",
        "          nan_policy='omit')\n",
        "# Null Hypothesis was proven False"
      ],
      "execution_count": 140,
      "outputs": [
        {
          "output_type": "execute_result",
          "data": {
            "text/plain": [
              "Ttest_indResult(statistic=-1.7359117329695164, pvalue=0.08330248490425066)"
            ]
          },
          "metadata": {
            "tags": []
          },
          "execution_count": 140
        }
      ]
    },
    {
      "cell_type": "code",
      "metadata": {
        "id": "5fxNPG_HzwBk",
        "colab_type": "code",
        "colab": {
          "base_uri": "https://localhost:8080/",
          "height": 306
        },
        "outputId": "813623ac-8731-47b2-834e-8b118833dc65"
      },
      "source": [
        "dems.mean()"
      ],
      "execution_count": 127,
      "outputs": [
        {
          "output_type": "execute_result",
          "data": {
            "text/plain": [
              "Handicapped-infants                       0.604651\n",
              "Water-project-cost-sharing                0.502092\n",
              "Adoption-of-the-budget-resolution         0.888462\n",
              "Physician-fee-freeze                      0.054054\n",
              "El-Salvador-aid                           0.215686\n",
              "Religious-groups-in-schools               0.476744\n",
              "Anti-satellite-test-ban                   0.772201\n",
              "Aid-to-nicaraguan-contras                 0.828897\n",
              "MX-missile                                0.758065\n",
              "Immigration                               0.471483\n",
              "Synfuels-corporation-cutback              0.505882\n",
              "Education-spending                        0.144578\n",
              "Superfund-right-to-sue                    0.289683\n",
              "Crime                                     0.350195\n",
              "Duty-free-exports                         0.637450\n",
              "Export-administration-act-south-africa    0.935135\n",
              "dtype: float64"
            ]
          },
          "metadata": {
            "tags": []
          },
          "execution_count": 127
        }
      ]
    },
    {
      "cell_type": "code",
      "metadata": {
        "id": "MHj4VVNg1YTA",
        "colab_type": "code",
        "colab": {
          "base_uri": "https://localhost:8080/",
          "height": 306
        },
        "outputId": "6be32088-43f4-4ea2-f23f-9902e0e7c0e8"
      },
      "source": [
        "reps.mean()"
      ],
      "execution_count": 128,
      "outputs": [
        {
          "output_type": "execute_result",
          "data": {
            "text/plain": [
              "Handicapped-infants                       0.187879\n",
              "Water-project-cost-sharing                0.506757\n",
              "Adoption-of-the-budget-resolution         0.134146\n",
              "Physician-fee-freeze                      0.987879\n",
              "El-Salvador-aid                           0.951515\n",
              "Religious-groups-in-schools               0.897590\n",
              "Anti-satellite-test-ban                   0.240741\n",
              "Aid-to-nicaraguan-contras                 0.152866\n",
              "MX-missile                                0.115152\n",
              "Immigration                               0.557576\n",
              "Synfuels-corporation-cutback              0.132075\n",
              "Education-spending                        0.870968\n",
              "Superfund-right-to-sue                    0.860759\n",
              "Crime                                     0.981366\n",
              "Duty-free-exports                         0.089744\n",
              "Export-administration-act-south-africa    0.657534\n",
              "dtype: float64"
            ]
          },
          "metadata": {
            "tags": []
          },
          "execution_count": 128
        }
      ]
    },
    {
      "cell_type": "code",
      "metadata": {
        "id": "G2LGC6N71ncV",
        "colab_type": "code",
        "colab": {
          "base_uri": "https://localhost:8080/",
          "height": 34
        },
        "outputId": "0e4c342a-311b-4de9-ec6a-e88837168aa9"
      },
      "source": [
        "ttest_1samp(reps['Superfund-right-to-sue'], 0.01, nan_policy='omit')"
      ],
      "execution_count": 130,
      "outputs": [
        {
          "output_type": "execute_result",
          "data": {
            "text/plain": [
              "Ttest_1sampResult(statistic=30.7916472392414, pvalue=2.025029327879914e-68)"
            ]
          },
          "metadata": {
            "tags": []
          },
          "execution_count": 130
        }
      ]
    },
    {
      "cell_type": "code",
      "metadata": {
        "id": "q4JHaq1y14OK",
        "colab_type": "code",
        "colab": {
          "base_uri": "https://localhost:8080/",
          "height": 34
        },
        "outputId": "4a8bf10a-45cf-477e-862f-3fd42953fb38"
      },
      "source": [
        "ttest_1samp(dems['Superfund-right-to-sue'], 0.01, nan_policy='omit')"
      ],
      "execution_count": 131,
      "outputs": [
        {
          "output_type": "execute_result",
          "data": {
            "text/plain": [
              "Ttest_1sampResult(statistic=9.768206017994263, pvalue=2.608979033171928e-19)"
            ]
          },
          "metadata": {
            "tags": []
          },
          "execution_count": 131
        }
      ]
    },
    {
      "cell_type": "code",
      "metadata": {
        "id": "8f73AUUM2PTP",
        "colab_type": "code",
        "colab": {
          "base_uri": "https://localhost:8080/",
          "height": 34
        },
        "outputId": "fa95fe7b-1733-486c-baca-74bf4a469504"
      },
      "source": [
        "ttest_ind(reps['Superfund-right-to-sue'], dems['Superfund-right-to-sue'],\n",
        "          nan_policy='omit')"
      ],
      "execution_count": 133,
      "outputs": [
        {
          "output_type": "execute_result",
          "data": {
            "text/plain": [
              "Ttest_indResult(statistic=13.51064251060933, pvalue=1.2278581709672758e-34)"
            ]
          },
          "metadata": {
            "tags": []
          },
          "execution_count": 133
        }
      ]
    },
    {
      "cell_type": "code",
      "metadata": {
        "id": "67F4bw1134is",
        "colab_type": "code",
        "colab": {
          "base_uri": "https://localhost:8080/",
          "height": 474
        },
        "outputId": "ad3de307-5556-4fbc-e27b-24c40d75b981"
      },
      "source": [
        "style.use('fivethirtyeight')\n",
        "\n",
        "ax = sns.distplot(reps['Superfund-right-to-sue'], color='r')\n",
        "ax.axvline(np.percentile(reps['Superfund-right-to-sue'],97.5),0)\n",
        "ax.axvline(np.percentile(reps['Superfund-right-to-sue'], 2.5),0);\n",
        "\n",
        "# Null Hypothesis was proven False\n"
      ],
      "execution_count": 138,
      "outputs": [
        {
          "output_type": "stream",
          "text": [
            "/usr/local/lib/python3.6/dist-packages/numpy/lib/histograms.py:824: RuntimeWarning: invalid value encountered in greater_equal\n",
            "  keep = (tmp_a >= first_edge)\n",
            "/usr/local/lib/python3.6/dist-packages/numpy/lib/histograms.py:825: RuntimeWarning: invalid value encountered in less_equal\n",
            "  keep &= (tmp_a <= last_edge)\n",
            "/usr/local/lib/python3.6/dist-packages/statsmodels/nonparametric/kde.py:447: RuntimeWarning: invalid value encountered in greater\n",
            "  X = X[np.logical_and(X > clip[0], X < clip[1])] # won't work for two columns.\n",
            "/usr/local/lib/python3.6/dist-packages/statsmodels/nonparametric/kde.py:447: RuntimeWarning: invalid value encountered in less\n",
            "  X = X[np.logical_and(X > clip[0], X < clip[1])] # won't work for two columns.\n",
            "/usr/local/lib/python3.6/dist-packages/numpy/lib/function_base.py:3826: RuntimeWarning: Invalid value encountered in percentile\n",
            "  interpolation=interpolation)\n"
          ],
          "name": "stderr"
        },
        {
          "output_type": "display_data",
          "data": {
            "image/png": "[encoded data removed]",
            "text/plain": [
              "<Figure size 432x288 with 1 Axes>"
            ]
          },
          "metadata": {
            "tags": []
          }
        }
      ]
    }
  ]
}