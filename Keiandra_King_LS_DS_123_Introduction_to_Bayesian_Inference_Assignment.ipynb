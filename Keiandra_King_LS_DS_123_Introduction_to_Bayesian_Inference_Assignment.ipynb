{
  "nbformat": 4,
  "nbformat_minor": 0,
  "metadata": {
    "colab": {
      "name": "Keiandra_King_LS_DS_123_Introduction_to_Bayesian_Inference_Assignment.ipynb",
      "provenance": [],
      "include_colab_link": true
    },
    "kernelspec": {
      "name": "python3",
      "display_name": "Python 3"
    }
  },
  "cells": [
    {
      "cell_type": "markdown",
      "metadata": {
        "id": "view-in-github",
        "colab_type": "text"
      },
      "source": [
        "<a href=\"https://colab.research.google.com/github/KeiandraK/DS-Unit-1-Sprint-2-Statistics/blob/master/Keiandra_King_LS_DS_123_Introduction_to_Bayesian_Inference_Assignment.ipynb\" target=\"_parent\"><img src=\"https://colab.research.google.com/assets/colab-badge.svg\" alt=\"Open In Colab\"/></a>"
      ]
    },
    {
      "cell_type": "markdown",
      "metadata": {
        "id": "H7OLbevlbd_Z",
        "colab_type": "text"
      },
      "source": [
        "# Lambda School Data Science Module 123\n",
        "\n",
        "## Introduction to Bayesian Inference\n",
        "\n",
        "\n"
      ]
    },
    {
      "cell_type": "markdown",
      "metadata": {
        "id": "P-DzzRk5bf0z",
        "colab_type": "text"
      },
      "source": [
        "## Assignment - Code it up!\n",
        "\n",
        "We used pure math to apply Bayes Theorem to drug tests. Now write Python code to reproduce the results! This is purposefully open ended - you'll have to think about how you should represent probabilities and events. You can and should look things up.\n",
        "\n",
        "Specific goals/targets:\n",
        "\n",
        "### 1) Write a function \n",
        "\n",
        "`def prob_drunk_given_positive(prob_drunk_prior, false_positive_rate):` \n",
        "\n",
        "You should only truly need these two values in order to apply Bayes Theorem. In this example, imagine that individuals are taking a breathalyzer test with an 8% false positive rate, a 100% true positive rate, and that our prior belief about drunk driving in the population is 1/1000. \n",
        " - What is the probability that a person is drunk after one positive breathalyzer test?\n",
        " - What is the probability that a person is drunk after two positive breathalyzer tests?\n",
        " - How many positive breathalyzer tests are needed in order to have a probability that's greater than 95% that a person is drunk beyond the legal limit?\n",
        "\n",
        "### 2) Explore `scipy.stats.bayes_mvs`  \n",
        "Read its documentation, and experiment with it on data you've tested in other ways earlier this week.\n",
        " - Create a visualization comparing the results of a Bayesian approach to a traditional/frequentist approach. (with a large sample size they should look close to identical, however, take this opportunity to practice visualizing condfidence intervals in general. The following are some potential ways that you could visualize confidence intervals on your graph:\n",
        "  - [Matplotlib Error Bars](https://matplotlib.org/3.1.1/api/_as_gen/matplotlib.pyplot.errorbar.html)\n",
        "  - [Seaborn barplot with error bars](https://seaborn.pydata.org/generated/seaborn.barplot.html)\n",
        "  - [Vertical ines to show bounds of confidence interval](https://www.simplypsychology.org/confidence-interval.jpg)\n",
        "  - [Confidence Intervals on Box Plots](https://matplotlib.org/3.1.1/api/_as_gen/matplotlib.axes.Axes.boxplot.html)\n",
        "\n",
        "### 3) In your own words, summarize the difference between Bayesian and Frequentist statistics\n",
        "\n",
        "If you're unsure where to start, check out [this blog post of Bayes theorem with Python](https://dataconomy.com/2015/02/introduction-to-bayes-theorem-with-python/).\n",
        "\n"
      ]
    },
    {
      "cell_type": "code",
      "metadata": {
        "id": "xpVhZyUnbf7o",
        "colab_type": "code",
        "colab": {}
      },
      "source": [
        "import numpy as np\n",
        "import pandas as pd\n",
        "import matplotlib.pyplot as plt\n",
        "import seaborn as sns \n",
        "from scipy import stats\n",
        "import scipy as scipy"
      ],
      "execution_count": 0,
      "outputs": []
    },
    {
      "cell_type": "code",
      "metadata": {
        "id": "nApGiMRtZVXB",
        "colab_type": "code",
        "colab": {}
      },
      "source": [
        "# These variables are the building blocks to creating the function below\n",
        "a=0.1 #true positive rate\n",
        "b=0.08  # False positve\n",
        "c=.95 # common \n",
        "\n",
        "# Probability equation= ab/ [ab+c(1-a)]\n",
        "Testing_probability = (a*b)/ (a*b+c*(1-a))"
      ],
      "execution_count": 0,
      "outputs": []
    },
    {
      "cell_type": "code",
      "metadata": {
        "id": "e_HBanmMPwqW",
        "colab_type": "code",
        "colab": {}
      },
      "source": [
        "def prob_drunk_given_positive(prob_drunk_prior, false_positive_rate):\n",
        "  Testing_probability = (prob_drunk_prior*false_positive_rate)/ (prob_drunk_prior*false_positive_rate+c*(1-prob_drunk_prior))  \n",
        "  return prob_drunk_given_positive(Testing_probability)"
      ],
      "execution_count": 0,
      "outputs": []
    },
    {
      "cell_type": "code",
      "metadata": {
        "id": "L6vA80X97J3t",
        "colab_type": "code",
        "colab": {
          "base_uri": "https://localhost:8080/",
          "height": 34
        },
        "outputId": "fe54f4f9-369e-4edd-89df-816cb7f4c7ce"
      },
      "source": [
        "# The test needed to be ran at least 10 times to even come close to 95% with the given variables\n",
        "Testing_probability*10"
      ],
      "execution_count": 44,
      "outputs": [
        {
          "output_type": "execute_result",
          "data": {
            "text/plain": [
              "0.09269988412514485"
            ]
          },
          "metadata": {
            "tags": []
          },
          "execution_count": 44
        }
      ]
    },
    {
      "cell_type": "code",
      "metadata": {
        "id": "X03lCERUNZ1A",
        "colab_type": "code",
        "colab": {
          "base_uri": "https://localhost:8080/",
          "height": 70
        },
        "outputId": "3db128d0-995a-4152-ab0a-7c24a81d8092"
      },
      "source": [
        "# This cell has the testing data with the Bayesian approach\n",
        "scipy.stats.bayes_mvs(observed, alpha=0.95)"
      ],
      "execution_count": 29,
      "outputs": [
        {
          "output_type": "execute_result",
          "data": {
            "text/plain": [
              "(Mean(statistic=62.25, minmax=(-23.561789278135123, 148.0617892781351)),\n",
              " Variance(statistic=8724.75, minmax=(933.2876894407725, 40430.679919940885)),\n",
              " Std_dev(statistic=74.5275006891017, minmax=(30.549757600360305, 201.0738170919846)))"
            ]
          },
          "metadata": {
            "tags": []
          },
          "execution_count": 29
        }
      ]
    },
    {
      "cell_type": "code",
      "metadata": {
        "id": "V51zGSomEzAH",
        "colab_type": "code",
        "colab": {
          "base_uri": "https://localhost:8080/",
          "height": 34
        },
        "outputId": "63867c0d-121c-475e-a071-76eb94eecd45"
      },
      "source": [
        "# Test data from 'https://archive.ics.uci.edu/ml/machine-learning-databases/voting-records/house-votes-84.data'\n",
        "party_stats = np.random.binomial(n=1, p=.80, size=500)\n",
        "confidence_interval(party_stats, confidence=0.85)"
      ],
      "execution_count": 37,
      "outputs": [
        {
          "output_type": "execute_result",
          "data": {
            "text/plain": [
              "(0.826, 0.8015316581655855, 0.8504683418344144)"
            ]
          },
          "metadata": {
            "tags": []
          },
          "execution_count": 37
        }
      ]
    },
    {
      "cell_type": "code",
      "metadata": {
        "id": "9HJMrKF_HB4-",
        "colab_type": "code",
        "colab": {
          "base_uri": "https://localhost:8080/",
          "height": 34
        },
        "outputId": "e999252e-f1a5-48ed-a57c-a3519f6678a3"
      },
      "source": [
        "# Frequentist approach\n",
        "def confidence_interval(data, confidence=0.85):\n",
        "  data = np.array(data)\n",
        "  mean = np.mean(data)\n",
        "  n = len(data)\n",
        "  stderr = stats.sem(data)\n",
        "  margin = stderr * stats.t.ppf((1 + confidence) / 2.0, n - 1)\n",
        "  return (mean, mean - margin, mean + margin)\n",
        "\n",
        "frequentist_confidence_interval=confidence_interval(party_stats)\n",
        "frequentist_confidence_interval"
      ],
      "execution_count": 41,
      "outputs": [
        {
          "output_type": "execute_result",
          "data": {
            "text/plain": [
              "(0.826, 0.8015316581655855, 0.8504683418344144)"
            ]
          },
          "metadata": {
            "tags": []
          },
          "execution_count": 41
        }
      ]
    },
    {
      "cell_type": "code",
      "metadata": {
        "id": "KTRd7TihHP3_",
        "colab_type": "code",
        "colab": {
          "base_uri": "https://localhost:8080/",
          "height": 70
        },
        "outputId": "53fbce6f-41a0-4404-c5ff-5e1dba0a3727"
      },
      "source": [
        "# This is the Bayesian \n",
        "scipy.stats.bayes_mvs(party_stats,alpha=.85)"
      ],
      "execution_count": 42,
      "outputs": [
        {
          "output_type": "execute_result",
          "data": {
            "text/plain": [
              "(Mean(statistic=0.826, minmax=(0.8015316581655855, 0.8504683418344144)),\n",
              " Variance(statistic=0.14459154929577464, minmax=(0.13181667993567123, 0.1581946218949832)),\n",
              " Std_dev(statistic=0.38006072962776627, minmax=(0.3630656689025709, 0.39773687520141154)))"
            ]
          },
          "metadata": {
            "tags": []
          },
          "execution_count": 42
        }
      ]
    },
    {
      "cell_type": "code",
      "metadata": {
        "id": "ARIE7rX1Wpzo",
        "colab_type": "code",
        "colab": {
          "base_uri": "https://localhost:8080/",
          "height": 352
        },
        "outputId": "ae4088ed-967f-4432-dd14-6c203d5dd5f6"
      },
      "source": [
        "# The goal of this was to show the confidence of the sway of votes\n",
        "# I do think that this plot was very unsuccessful in showing what I was aiming for\n",
        "x = party_stats\n",
        "y=party_stats\n",
        "error = 0.0 + 0.1* x\n",
        "\n",
        "fig, (ax0, ax1) = plt.subplots(nrows=2, sharex=True)\n",
        "ax0.errorbar(x,y, yerr=error, fmt='-k')\n",
        "ax0.set_title('Voting confidence margin')\n",
        "lower_error = 0.95 * error\n",
        "upper_error = error\n",
        "asymmetric_error = [lower_error, upper_error]\n",
        "\n",
        "ax1.errorbar(x, y, xerr=asymmetric_error, fmt='b')\n",
        "ax1.set_title('Voting confidence margin')\n",
        "ax1.set_yscale('log')\n",
        "plt.show()"
      ],
      "execution_count": 93,
      "outputs": [
        {
          "output_type": "stream",
          "text": [
            "/usr/local/lib/python3.6/dist-packages/matplotlib/axes/_base.py:3507: UserWarning: Attempting to set identical bottom==top results\n",
            "in singular transformations; automatically expanding.\n",
            "bottom=1.0, top=1.0\n",
            "  self.set_ylim(upper, lower, auto=None)\n"
          ],
          "name": "stderr"
        },
        {
          "output_type": "display_data",
          "data": {
            "image/png": "[encoded data removed]",
            "text/plain": [
              "<Figure size 432x288 with 2 Axes>"
            ]
          },
          "metadata": {
            "tags": []
          }
        }
      ]
    },
    {
      "cell_type": "code",
      "metadata": {
        "id": "PvvS871Saa2L",
        "colab_type": "code",
        "colab": {}
      },
      "source": [
        ""
      ],
      "execution_count": 0,
      "outputs": []
    },
    {
      "cell_type": "markdown",
      "metadata": {
        "id": "dNGGE2BIbCX1",
        "colab_type": "text"
      },
      "source": [
        "# ***The Difference Between Bayesian and Frequentist statistics***\n",
        "\n",
        "Bayesians uses probabilities to confront the uncertainty of hypothesis and events. For example the Bayes and the Beetle experiment performed by Prof. Leighton Vaughan Williams. This tests the unlikelyness of a rae beetle with patterns being found in a group. A Frequentist Statistician would not attach probabilities to hypotheses or to any fixed but unknown values in general."
      ]
    },
    {
      "cell_type": "markdown",
      "metadata": {
        "id": "uWgWjp3PQ3Sq",
        "colab_type": "text"
      },
      "source": [
        "## Resources"
      ]
    },
    {
      "cell_type": "markdown",
      "metadata": {
        "id": "QRgHqmYIQ9qn",
        "colab_type": "text"
      },
      "source": [
        "- [Worked example of Bayes rule calculation](https://en.wikipedia.org/wiki/Bayes'_theorem#Examples) (helpful as it fully breaks out the denominator)\n",
        "- [Source code for mvsdist in scipy](https://github.com/scipy/scipy/blob/90534919e139d2a81c24bf08341734ff41a3db12/scipy/stats/morestats.py#L139)"
      ]
    },
    {
      "cell_type": "markdown",
      "metadata": {
        "id": "GP7Jv1XvwtkX",
        "colab_type": "text"
      },
      "source": [
        "## Stretch Goals:\n",
        "\n",
        "- Go back and study the content from Modules 1 & 2 to make sure that you're really comfortable with them.\n",
        "- Apply a Bayesian technique to a problem you previously worked (in an assignment or project work) on from a frequentist (standard) perspective\n",
        "- Check out [PyMC3](https://docs.pymc.io/) (note this goes beyond hypothesis tests into modeling) - read the guides and work through some examples\n",
        "- Take PyMC3 further - see if you can build something with it!"
      ]
    },
    {
      "cell_type": "code",
      "metadata": {
        "id": "iDi0eFr1x-v_",
        "colab_type": "code",
        "colab": {}
      },
      "source": [
        ""
      ],
      "execution_count": 0,
      "outputs": []
    }
  ]
}